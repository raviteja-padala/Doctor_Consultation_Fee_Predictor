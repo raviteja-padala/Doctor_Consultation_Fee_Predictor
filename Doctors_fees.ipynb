{
 "cells": [
  {
   "cell_type": "markdown",
   "id": "c64b1769",
   "metadata": {},
   "source": [
    "# Prediction of Doctor Consultaion fees"
   ]
  },
  {
   "cell_type": "markdown",
   "id": "be6c7c58",
   "metadata": {},
   "source": [
    "## Objective: \n",
    "\n",
    "To Predict the doctor consultaion fees based on Speciality, experience and area of doctor.\n",
    "\n"
   ]
  },
  {
   "cell_type": "markdown",
   "id": "a602beb4",
   "metadata": {},
   "source": [
    "**Project Description: Prediction of Doctor Consultation Fees**\n",
    "\n",
    "In the modern healthcare landscape, the cost of medical services is a critical factor for both patients and healthcare providers. The \"Prediction of Doctor Consultation Fees\" project aims to develop a predictive model that estimates the consultation fees charged by doctors based on various factors such as their medical specialization, years of experience, and practice area. By providing accurate fee predictions, this project can empower patients to make informed decisions about their healthcare expenses and help medical practitioners set competitive pricing.\n",
    "\n",
    "**Project Objectives:**\n",
    "1. Develop a predictive model: Create a machine learning model that uses features like doctor's speciality, years of experience, and practice area to predict the consultation fee.\n",
    "2. Data collection and preprocessing: Gather relevant data on doctors' specialities, experience, practice areas, and corresponding consultation fees. Clean and preprocess the data to ensure accuracy and consistency.\n",
    "3. Feature selection: Identify the most relevant features that have the greatest impact on the consultation fees.\n",
    "4. Model training and evaluation: Train the predictive model using a suitable machine learning algorithm. Evaluate the model's performance using appropriate evaluation metrics.\n",
    "5. Fine-tuning and optimization: Optimize the model's hyperparameters and architecture to improve prediction accuracy.\n",
    "6. User interface (optional): Develop a user-friendly interface where users can input doctor details and receive estimated consultation fees in real-time.\n",
    "7. Deployment: Deploy the trained model for practical use, either through a web application, API, or integration with a healthcare platform.\n",
    "\n",
    "**Deliverables:**\n",
    "1. Dataset: A clean and well-structured dataset containing information on doctors' specialities, experience, practice areas, and consultation fees.\n",
    "2. Machine Learning Model: A trained predictive model capable of estimating doctor consultation fees.\n",
    "3. Evaluation Report: Documentation of the model's performance, including metrics such as Mean Absolute Error, Root Mean Squared Error, etc.\n",
    "4. Source Code: Well-documented Python code for data preprocessing, model training, and prediction.\n",
    "5. User Interface (optional): If applicable, a user interface allowing users to input doctor details and receive fee predictions.\n",
    "6. Deployment (optional): Deployed model accessible through a web application, API, or integration.\n",
    "\n",
    "**Business Need:**\n",
    "\n",
    "- Address the growing demand for cost transparency in healthcare.\n",
    "- Empower patients with accurate estimates to make informed decisions.\n",
    "- Improve patient satisfaction and overall healthcare experience.\n",
    "- Enable doctors to set competitive and fair consultation fees based on market trends.\n",
    "\n",
    "**Scope:**\n",
    "\n",
    "- The project will focus on predicting doctor consultation fees based on the specified features, and the scope may not include predicting fees for specific medical procedures or treatments.\n",
    "- May incorporate additional variables for enhanced prediction accuracy.\n",
    "- The project will not address real-time fluctuations in fees due to factors such as market demand, location-based variations, or doctor reputation.\n",
    "variations, or doctor reputation.\n",
    "\n",
    "**Assumptions and Limitations:**\n",
    "- The accuracy of the prediction may vary based on the available data and the complexity of the relationship between features and fees.\n",
    "- The model assumes that the provided features (speciality, experience, practice area) are the primary factors influencing consultation fees.\n",
    "\n",
    "**Future Enhancements:**\n",
    "- Integration with a wider range of features, such as doctor qualifications, patient reviews, and clinic facilities, to improve prediction accuracy.\n",
    "- Integration with external APIs or databases to provide real-time updates on medical fee trends and market fluctuations.\n",
    "\n",
    "**Conclusion:**\n",
    "The \"Prediction of Doctor Consultation Fees\" project aims to create a valuable tool for patients seeking transparent and reliable cost estimates for medical consultations. By leveraging machine learning techniques, the project contributes to informed decision-making in healthcare expenses and potentially facilitates a fairer pricing structure within the medical industry."
   ]
  },
  {
   "cell_type": "code",
   "execution_count": 145,
   "id": "ab935a78",
   "metadata": {},
   "outputs": [],
   "source": [
    "# import libraries\n",
    "import pandas as pd\n",
    "import numpy as np\n",
    "import seaborn as sns \n",
    "import matplotlib.pyplot as plt\n",
    "import warnings\n",
    "warnings.filterwarnings('ignore')"
   ]
  },
  {
   "cell_type": "code",
   "execution_count": 146,
   "id": "cf673535",
   "metadata": {},
   "outputs": [],
   "source": [
    "#import dataset\n",
    "# The dataset is obtained from an online platform that connects patients with healthcare providers\n",
    "dataset= pd.read_csv('https://raw.githubusercontent.com/raviteja-padala/Datasets/main/doctors_hyd.csv')"
   ]
  },
  {
   "cell_type": "code",
   "execution_count": 147,
   "id": "12872ccf",
   "metadata": {},
   "outputs": [
    {
     "data": {
      "text/html": [
       "<div>\n",
       "<style scoped>\n",
       "    .dataframe tbody tr th:only-of-type {\n",
       "        vertical-align: middle;\n",
       "    }\n",
       "\n",
       "    .dataframe tbody tr th {\n",
       "        vertical-align: top;\n",
       "    }\n",
       "\n",
       "    .dataframe thead th {\n",
       "        text-align: right;\n",
       "    }\n",
       "</style>\n",
       "<table border=\"1\" class=\"dataframe\">\n",
       "  <thead>\n",
       "    <tr style=\"text-align: right;\">\n",
       "      <th></th>\n",
       "      <th>Name</th>\n",
       "      <th>Speciality</th>\n",
       "      <th>Years_of_Experience</th>\n",
       "      <th>Area</th>\n",
       "      <th>Consultation_fee</th>\n",
       "      <th>Patient_stories</th>\n",
       "    </tr>\n",
       "  </thead>\n",
       "  <tbody>\n",
       "    <tr>\n",
       "      <th>0</th>\n",
       "      <td>M</td>\n",
       "      <td>Ayurveda</td>\n",
       "      <td>24.0</td>\n",
       "      <td>overallAmeerpet, Hyderabad</td>\n",
       "      <td>500.0</td>\n",
       "      <td>65.0</td>\n",
       "    </tr>\n",
       "    <tr>\n",
       "      <th>1</th>\n",
       "      <td>C Narmada</td>\n",
       "      <td>Ayurveda</td>\n",
       "      <td>23.0</td>\n",
       "      <td>overallShaikpet, Hyderabad</td>\n",
       "      <td>500.0</td>\n",
       "      <td>18.0</td>\n",
       "    </tr>\n",
       "    <tr>\n",
       "      <th>2</th>\n",
       "      <td>Priti Thakre</td>\n",
       "      <td>Ayurveda</td>\n",
       "      <td>21.0</td>\n",
       "      <td>overallKPHB, Hyderabad</td>\n",
       "      <td>500.0</td>\n",
       "      <td>11.0</td>\n",
       "    </tr>\n",
       "    <tr>\n",
       "      <th>3</th>\n",
       "      <td>Alivelu Manga</td>\n",
       "      <td>Ayurveda</td>\n",
       "      <td>25.0</td>\n",
       "      <td>Nagar, Hyderabad</td>\n",
       "      <td>299.0</td>\n",
       "      <td>9.0</td>\n",
       "    </tr>\n",
       "    <tr>\n",
       "      <th>4</th>\n",
       "      <td>G</td>\n",
       "      <td>Ayurveda</td>\n",
       "      <td>18.0</td>\n",
       "      <td>overallKukatpally, Hyderabad</td>\n",
       "      <td>500.0</td>\n",
       "      <td>53.0</td>\n",
       "    </tr>\n",
       "  </tbody>\n",
       "</table>\n",
       "</div>"
      ],
      "text/plain": [
       "            Name Speciality  Years_of_Experience  \\\n",
       "0              M   Ayurveda                 24.0   \n",
       "1      C Narmada   Ayurveda                 23.0   \n",
       "2   Priti Thakre   Ayurveda                 21.0   \n",
       "3  Alivelu Manga   Ayurveda                 25.0   \n",
       "4              G   Ayurveda                 18.0   \n",
       "\n",
       "                           Area  Consultation_fee  Patient_stories  \n",
       "0    overallAmeerpet, Hyderabad             500.0             65.0  \n",
       "1    overallShaikpet, Hyderabad             500.0             18.0  \n",
       "2        overallKPHB, Hyderabad             500.0             11.0  \n",
       "3              Nagar, Hyderabad             299.0              9.0  \n",
       "4  overallKukatpally, Hyderabad             500.0             53.0  "
      ]
     },
     "execution_count": 147,
     "metadata": {},
     "output_type": "execute_result"
    }
   ],
   "source": [
    "#viewing top 5 records\n",
    "dataset.head()"
   ]
  },
  {
   "cell_type": "code",
   "execution_count": 148,
   "id": "78847292",
   "metadata": {},
   "outputs": [
    {
     "data": {
      "text/plain": [
       "(1458, 6)"
      ]
     },
     "execution_count": 148,
     "metadata": {},
     "output_type": "execute_result"
    }
   ],
   "source": [
    "#shape of dataset\n",
    "dataset.shape"
   ]
  },
  {
   "cell_type": "code",
   "execution_count": 149,
   "id": "d0c24c36",
   "metadata": {},
   "outputs": [
    {
     "name": "stdout",
     "output_type": "stream",
     "text": [
      "<class 'pandas.core.frame.DataFrame'>\n",
      "RangeIndex: 1458 entries, 0 to 1457\n",
      "Data columns (total 6 columns):\n",
      " #   Column               Non-Null Count  Dtype  \n",
      "---  ------               --------------  -----  \n",
      " 0   Name                 1442 non-null   object \n",
      " 1   Speciality           1458 non-null   object \n",
      " 2   Years_of_Experience  1407 non-null   float64\n",
      " 3   Area                 1359 non-null   object \n",
      " 4   Consultation_fee     1396 non-null   float64\n",
      " 5   Patient_stories      744 non-null    float64\n",
      "dtypes: float64(3), object(3)\n",
      "memory usage: 68.5+ KB\n"
     ]
    }
   ],
   "source": [
    "#information of dataset\n",
    "dataset.info()"
   ]
  },
  {
   "cell_type": "markdown",
   "id": "9f58ac43",
   "metadata": {},
   "source": [
    "# Feature wise Data Analysis"
   ]
  },
  {
   "cell_type": "markdown",
   "id": "dd936448",
   "metadata": {},
   "source": [
    "## Speciality column"
   ]
  },
  {
   "cell_type": "code",
   "execution_count": 150,
   "id": "565e539f",
   "metadata": {},
   "outputs": [
    {
     "data": {
      "text/plain": [
       "15"
      ]
     },
     "execution_count": 150,
     "metadata": {},
     "output_type": "execute_result"
    }
   ],
   "source": [
    "dataset['Speciality'].nunique()"
   ]
  },
  {
   "cell_type": "code",
   "execution_count": 151,
   "id": "75967ce6",
   "metadata": {},
   "outputs": [
    {
     "data": {
      "text/plain": [
       "Dentist               244\n",
       "Physiotherapist       196\n",
       "General physician     157\n",
       "Gynecologist          142\n",
       "Psychiatrist          122\n",
       "Ayurveda              105\n",
       "Dermatologist          97\n",
       "Orthopedic             91\n",
       "Pediatrician           59\n",
       "Cardiology             56\n",
       "Homeopathy             45\n",
       "ENT                    41\n",
       "Neurologist            40\n",
       "Urologist              35\n",
       "Gastroenterologist     28\n",
       "Name: Speciality, dtype: int64"
      ]
     },
     "execution_count": 151,
     "metadata": {},
     "output_type": "execute_result"
    }
   ],
   "source": [
    "dataset['Speciality'].value_counts()"
   ]
  },
  {
   "cell_type": "code",
   "execution_count": 152,
   "id": "3d656fb1",
   "metadata": {
    "scrolled": true
   },
   "outputs": [
    {
     "data": {
      "image/png": "[encoded data removed]",
      "text/plain": [
       "<Figure size 1296x288 with 1 Axes>"
      ]
     },
     "metadata": {},
     "output_type": "display_data"
    }
   ],
   "source": [
    "plt.figure(figsize=(18,4))\n",
    "sns.countplot(dataset['Speciality'])\n",
    "plt.show()"
   ]
  },
  {
   "cell_type": "markdown",
   "id": "8f56df26",
   "metadata": {},
   "source": [
    "<span style='color:Blue'> *Observation:* </span>\n",
    "\n",
    "- Dentists, General Physicians , Gynecologists are more in the dataset."
   ]
  },
  {
   "cell_type": "markdown",
   "id": "3399e4fc",
   "metadata": {},
   "source": [
    "## Years_of_Experience column"
   ]
  },
  {
   "cell_type": "code",
   "execution_count": 153,
   "id": "2748c38f",
   "metadata": {},
   "outputs": [
    {
     "name": "stdout",
     "output_type": "stream",
     "text": [
      "{13.0: 103, 11.0: 95, 12.0: 89, 14.0: 86, 10.0: 80, 15.0: 68, 20.0: 58, 17.0: 57, 16.0: 55, 9.0: 53, 19.0: 45, 18.0: 42, 7.0: 41, 8.0: 40, 22.0: 38, 24.0: 36, 21.0: 36, 26.0: 35, 23.0: 32, 25.0: 28, 27.0: 26, 6.0: 23, 29.0: 21, 5.0: 19, 4.0: 16, 33.0: 15, 28.0: 14, 30.0: 14, 32.0: 14, 34.0: 13, 36.0: 13, 3.0: 11, 41.0: 9, 37.0: 8, 42.0: 7, 35.0: 7, 40.0: 7, 44.0: 6, 39.0: 6, 43.0: 6, 47.0: 5, 46.0: 4, 45.0: 4, 31.0: 4, 38.0: 4, 2.0: 3, 51.0: 3, 52.0: 2, 48.0: 2, 55.0: 2, 68.0: 1, 53.0: 1}\n"
     ]
    }
   ],
   "source": [
    "print(dataset['Years_of_Experience'].value_counts().to_dict())"
   ]
  },
  {
   "cell_type": "code",
   "execution_count": 154,
   "id": "5b45536c",
   "metadata": {},
   "outputs": [
    {
     "data": {
      "image/png": "[encoded data removed]",
      "text/plain": [
       "<Figure size 1296x288 with 1 Axes>"
      ]
     },
     "metadata": {},
     "output_type": "display_data"
    }
   ],
   "source": [
    "plt.figure(figsize=(18,4))\n",
    "sns.distplot(dataset['Years_of_Experience'])\n",
    "plt.show()"
   ]
  },
  {
   "cell_type": "markdown",
   "id": "b1be4458",
   "metadata": {},
   "source": [
    "<span style='color:Blue'> *Observation:* </span>\n",
    "\n",
    "- Doctors with experiance range of 10 - 20 years are more in the dataset."
   ]
  },
  {
   "cell_type": "markdown",
   "id": "dcfe6b41",
   "metadata": {},
   "source": [
    "## Area column"
   ]
  },
  {
   "cell_type": "code",
   "execution_count": 155,
   "id": "3a616107",
   "metadata": {},
   "outputs": [
    {
     "name": "stdout",
     "output_type": "stream",
     "text": [
      "{'Hills, Hyderabad': 178, 'Nagar, Hyderabad': 112, 'overallGachibowli, Hyderabad': 96, 'overallKondapur, Hyderabad': 70, 'overallKukatpally, Hyderabad': 43, 'City, Hyderabad': 39, 'overallMadhapur, Hyderabad': 35, 'overallSecunderabad, Hyderabad': 34, 'overallManikonda, Hyderabad': 34, 'overallKPHB, Hyderabad': 32, 'overallAmeerpet, Hyderabad': 25, 'Road, Hyderabad': 22, 'overallMadinaguda, Hyderabad': 20, 'Banjara Hills': 19, 'overallMiyapur, Hyderabad': 18, 'Colony, Hyderabad': 17, 'overallNizampet, Hyderabad': 16, 'overallDilsukhnagar, Hyderabad': 15, 'overallNallagandla, Hyderabad': 15, 'Secunderabad': 15, 'overallUppal, Hyderabad': 14, 'overallMehdipatnam, Hyderabad': 13, 'KPHB': 12, 'Marredpally, Hyderabad': 12, 'overallHyderguda, Hyderabad': 12, 'overallKanchanbagh, Hyderabad': 11, 'overallAttapur, Hyderabad': 11, 'Kukatpally': 11, 'overallKompally, Hyderabad': 10, 'overallKachiguda, Hyderabad': 10, 'overallNacharam, Hyderabad': 9, 'Kondapur': 9, 'Mehdipatnam': 9, 'overallEcil, Hyderabad': 8, 'overallTolichowki, Hyderabad': 8, 'Miyapur': 8, 'overallSomajiguda, Hyderabad': 8, 'overallVanasthalipuram, Hyderabad': 7, 'overallPeerzadiguda, Hyderabad': 7, 'Ameerpet': 6, 'overallJeedimetla, Hyderabad': 6, 'city, Hyderabad': 6, 'overallAlwal, Hyderabad': 6, 'overallKokapet, Hyderabad': 6, 'Malakpet': 5, 'Yousufguda': 5, 'Somajiguda': 5, 'overallKarkhana, Hyderabad': 5, 'Attapur': 5, 'Manikonda': 5, 'Madinaguda': 5, 'Vanasthalipuram': 5, 'Chanda Nagar': 5, 'Masab Tank': 4, 'overallHabsiguda, Hyderabad': 4, 'overallKothapet, Hyderabad': 4, 'overallSainikpuri, Hyderabad': 4, 'overallNarsingi, Hyderabad': 4, 'overallMalkajgiri, Hyderabad': 4, 'Nallakunta': 4, 'Nizampet': 4, 'Gachibowli': 4, 'overallTarnaka, Hyderabad': 3, 'Erragadda': 3, 'overallYousufguda, Hyderabad': 3, 'Toli Chowki': 3, 'Himayath Nagar': 3, 'Alwal': 3, 'overallLingampally, Hyderabad': 3, 'overallDammaiguda, Hyderabad': 3, 'overallNagole, Hyderabad': 3, 'overallVidyanagar, Hyderabad': 3, 'Kachiguda': 3, 'Circle, Hyderabad': 3, 'overallAmberpet, Hyderabad': 3, 'overallBachupally, Hyderabad': 3, 'overallNallakunta, Hyderabad': 3, 'Punjagutta': 3, 'overallBegumpet, Hyderabad': 3, 'Santosh Nagar': 3, 'Dilsukhnagar': 3, 'Kothapet': 3, 'Kanchanbagh': 3, 'overallMansoorabad, Hyderabad': 2, 'Pragathi Nagar': 2, 'Hyderguda': 2, 'Basheerbagh': 2, 'overallChampapet, Hyderabad': 2, 'Lingampally': 2, 'Jubilee Hills': 2, 'Bowenpally': 2, 'overallBandlaguda, Hyderabad': 2, 'overallRamanthapur, Hyderabad': 2, 'Sainikpuri': 2, 'overallBoduppal, Hyderabad': 2, 'ECIL': 2, 'Madhapur': 2, 'Nallagandla': 2, 'Jeedimetla': 2, 'Tank, Hyderabad': 2, 'overallTrimulgherry, Hyderabad': 2, 'District, Hyderabad': 2, 'Khairatabad': 2, 'Old Bowenpally': 2, 'Shaikpet': 2, 'overallNanakramguda, Hyderabad': 2, 'overallSerilingampally, Hyderabad': 2, 'L B Nagar': 2, 'overallErragadda, Hyderabad': 2, 'MBBSPsychiatry Clinic ': 1, 'Shamshabad': 1, 'Kompally': 1, 'Musheerabad': 1, 'Domalguda': 1, 'Chintalkunta': 1, 'Vanaja Hospital': 1, 'PHYSIOTHERAPY CLINIC,  , Vanasthalipuram': 1, 'Malkajgiri': 1, 'Kapra': 1, 'Sanath Nagar': 1, 'Ramanthapur': 1, 'West Marredpally': 1, 'Ashok Colony': 1, 'Kamalangar': 1, 'Yashoda Hospital': 1, 'Humayun Nagar': 1, 'Hi Tech City': 1, 'Nagarjuna Sagar Road': 1, 'Beeramguda': 1, 'Bod Uppal': 1, 'Begumpet': 1, 'Allergy Clinic , Vanasthalipuram': 1, 'Madhurawada': 1, 'Bala Nagar': 1, 'Kondapur, Hyderabad ': 1, 'Meerpet': 1, 'Banjara Hills, Hyderabad ': 1, 'Secunderabad, Hyderabad  ': 1, 'Uppal': 1, 'Peerzadiguda': 1, 'Amberpet': 1, 'Tarnaka': 1, 'Khairatabad ': 1, 'Saifabad': 1, 'Gajularamaram': 1, 'Ram Nagar': 1, 'Serilingampally': 1, 'Puppalaguda': 1, 'overallSaidabad, Hyderabad': 1, 'Moosapet': 1, 'Rampally': 1, 'overallNarayanguda, Hyderabad': 1, 'overallChintalmet, Hyderabad': 1, 'overallHayathnagar, Hyderabad': 1, 'overallKushaiguda, Hyderabad': 1, 'overallPunjagutta, Hyderabad': 1, 'Karmanghat': 1, 'overallShaikpet, Hyderabad': 1, 'Isnapur': 1, 'Karkhana': 1, 'Moti Nagar': 1, 'Chaudhari Clinic , KPHB': 1, 'overallDomalguda, Hyderabad': 1, 'overallKapra, Hyderabad': 1, 'Neredmet': 1, 'Sanjeeva Reddy Nagar': 1, 'overallBHEL, Hyderabad': 1, 'overallMedipally, Hyderabad': 1, 'overallKhajaguda, Hyderabad': 1, 'Hafeezpet': 1, 'overallBorabanda, Hyderabad': 1, 'overallBalanagar, Hyderabad': 1, 'overallRamkoti, Hyderabad': 1, 'Karwan': 1, 'Venkatapuram': 1, 'Kokapet': 1, 'Koti': 1, 'Rajendra Nagar': 1, 'overallNampally, Hyderabad': 1, 'overallShivrampally, Hyderabad': 1, 'overallBalapur, Hyderabad': 1, 'overallChintal, Hyderabad': 1, 'overallLothkunta, Hyderabad': 1, 'overallMeerpet, Hyderabad': 1, 'overallMedchal, Hyderabad': 1, 'overallMalakpet, Hyderabad': 1, 'Village, Hyderabad': 1, 'Houz, Hyderabad': 1, 'overallBowenpally, Hyderabad': 1, 'overallMoosapet, Hyderabad': 1, 'overallQuthbullapur, Hyderabad': 1, 'overallLakdikapul, Hyderabad': 1, 'overallBarkatpura, Hyderabad': 1, 'overallKarmanghat, Hyderabad': 1, 'overallBeeramguda, Hyderabad': 1, 'Habsiguda': 1, 'overallChaitanyapuri, Hyderabad': 1, 'Nacharam': 1}\n"
     ]
    }
   ],
   "source": [
    "print(dataset['Area'].value_counts().to_dict())"
   ]
  },
  {
   "cell_type": "code",
   "execution_count": 156,
   "id": "b121d5a4",
   "metadata": {},
   "outputs": [
    {
     "name": "stdout",
     "output_type": "stream",
     "text": [
      "{'Hills': 178, 'Nagar': 112, 'Gachibowli': 100, 'Kondapur': 80, 'Kukatpally': 54, 'Secunderabad': 50, 'KPHB': 44, 'City': 39, 'Manikonda': 39, 'Madhapur': 37, 'Ameerpet': 31, 'Miyapur': 26, 'Madinaguda': 25, 'Road': 22, 'Mehdipatnam': 22, 'Banjara Hills': 20, 'Nizampet': 20, 'Dilsukhnagar': 18, 'Colony': 17, 'Nallagandla': 17, 'Attapur': 16, 'Uppal': 15, 'Hyderguda': 14, 'Kanchanbagh': 14, 'Somajiguda': 13, 'Kachiguda': 13, 'Vanasthalipuram': 12, 'Marredpally': 12, 'Kompally': 11, 'Nacharam': 10, 'Alwal': 9, 'Ecil': 8, 'Tolichowki': 8, 'Yousufguda': 8, 'Peerzadiguda': 8, 'Jeedimetla': 8, 'Kothapet': 7, 'Nallakunta': 7, 'Kokapet': 7, 'Karkhana': 6, 'city': 6, 'Sainikpuri': 6, 'Malakpet': 6, 'Malkajgiri': 5, 'Chanda Nagar': 5, 'Erragadda': 5, 'Lingampally': 5, 'Habsiguda': 5, 'Tarnaka': 4, 'Begumpet': 4, 'Masab Tank': 4, 'Narsingi': 4, 'Amberpet': 4, 'Punjagutta': 4, 'Circle': 3, 'Shaikpet': 3, 'Serilingampally': 3, 'Vidyanagar': 3, 'Dammaiguda': 3, 'Ramanthapur': 3, 'Bowenpally': 3, 'Nagole': 3, 'Khairatabad': 3, 'Toli Chowki': 3, 'Himayath Nagar': 3, 'Santosh Nagar': 3, 'Bachupally': 3, 'Champapet': 2, 'Old Bowenpally': 2, 'Beeramguda': 2, 'ECIL': 2, 'Bandlaguda': 2, 'Jubilee Hills': 2, 'Tank': 2, 'Trimulgherry': 2, 'L B Nagar': 2, 'Boduppal': 2, 'Nanakramguda': 2, 'District': 2, 'Mansoorabad': 2, 'Moosapet': 2, 'Basheerbagh': 2, 'Pragathi Nagar': 2, 'Karmanghat': 2, 'Domalguda': 2, 'Meerpet': 2, 'Kapra': 2, 'Chaudhari Clinic  KPHB': 1, 'Neredmet': 1, 'Vanaja Hospital': 1, 'Hafeezpet': 1, 'Shamshabad': 1, 'Venkatapuram': 1, 'MBBSPsychiatry Clinic': 1, 'Sanjeeva Reddy Nagar': 1, 'Musheerabad': 1, 'Sanath Nagar': 1, 'PHYSIOTHERAPY CLINIC   Vanasthalipuram': 1, 'Chintalkunta': 1, 'West Marredpally': 1, 'Ram Nagar': 1, 'Gajularamaram': 1, 'Saifabad': 1, 'Ashok Colony': 1, 'Bala Nagar': 1, 'Madhurawada': 1, 'Allergy Clinic  Vanasthalipuram': 1, 'Bod Uppal': 1, 'Nagarjuna Sagar Road': 1, 'Hi Tech City': 1, 'Humayun Nagar': 1, 'Yashoda Hospital': 1, 'Puppalaguda': 1, 'Balapur': 1, 'Koti': 1, 'Moti Nagar': 1, 'Kushaiguda': 1, 'Hayathnagar': 1, 'BHEL': 1, 'Chintalmet': 1, 'Narayanguda': 1, 'Ramkoti': 1, 'Medipally': 1, 'Chintal': 1, 'Balanagar': 1, 'Chaitanyapuri': 1, 'Borabanda': 1, 'Khajaguda': 1, 'Isnapur': 1, 'Nampally': 1, 'Barkatpura': 1, 'Lakdikapul': 1, 'Quthbullapur': 1, 'Rampally': 1, 'Houz': 1, 'Village': 1, 'Karwan': 1, 'Rajendra Nagar': 1, 'Medchal': 1, 'Lothkunta': 1, 'Saidabad': 1, 'Shivrampally': 1, 'Kamalangar': 1}\n"
     ]
    }
   ],
   "source": [
    "# Remove 'overall' from the 'Area' column\n",
    "dataset['Area'] = dataset['Area'].str.replace('overall', '').str.strip()\n",
    "dataset['Area'] = dataset['Area'].str.replace('Hyderabad', '').str.strip()\n",
    "dataset['Area'] = dataset['Area'].str.replace(',', '').str.strip()\n",
    "\n",
    "print(dataset['Area'].value_counts().to_dict())"
   ]
  },
  {
   "cell_type": "code",
   "execution_count": 157,
   "id": "453c857a",
   "metadata": {},
   "outputs": [
    {
     "data": {
      "text/plain": [
       "143"
      ]
     },
     "execution_count": 157,
     "metadata": {},
     "output_type": "execute_result"
    }
   ],
   "source": [
    "dataset['Area'].nunique()"
   ]
  },
  {
   "cell_type": "code",
   "execution_count": 158,
   "id": "1d295e19",
   "metadata": {},
   "outputs": [
    {
     "data": {
      "text/plain": [
       "Hills           178\n",
       "Nagar           112\n",
       "Gachibowli      100\n",
       "Kondapur         80\n",
       "Kukatpally       54\n",
       "Secunderabad     50\n",
       "KPHB             44\n",
       "City             39\n",
       "Manikonda        39\n",
       "Madhapur         37\n",
       "Name: Area, dtype: int64"
      ]
     },
     "execution_count": 158,
     "metadata": {},
     "output_type": "execute_result"
    }
   ],
   "source": [
    "dataset['Area'].value_counts().nlargest(10)"
   ]
  },
  {
   "cell_type": "code",
   "execution_count": 159,
   "id": "03b1a231",
   "metadata": {},
   "outputs": [
    {
     "data": {
      "image/png": "[encoded data removed]",
      "text/plain": [
       "<Figure size 1296x504 with 1 Axes>"
      ]
     },
     "metadata": {},
     "output_type": "display_data"
    }
   ],
   "source": [
    "column_name = dataset['Area'].value_counts().nlargest(10)\n",
    "plt.figure(figsize=(18, 7))\n",
    "\n",
    "# Subplot 1: Count Plot\n",
    "sns.set(style=\"whitegrid\")\n",
    "ax = sns.countplot(data=dataset, y='Area', order=column_name.index, palette='Set2')  # Order the y-axis based on value counts\n",
    "\n",
    "plt.title(f'Count Plot for {column_name.name}')\n",
    "\n",
    "# Add value counts above each bar\n",
    "for p in ax.patches:\n",
    "    ax.annotate(f'{int(p.get_width())}', (p.get_width(), p.get_y() + p.get_height() / 2), ha='left', va='center')\n",
    "\n",
    "plt.xlabel(\"Count\")\n",
    "plt.ylabel(column_name.name)\n",
    "plt.show()\n"
   ]
  },
  {
   "cell_type": "markdown",
   "id": "059359f6",
   "metadata": {},
   "source": [
    "<span style='color:Blue'> *Observation:* </span>\n",
    "\n",
    "- Highest number of doctor clinics are there in Jublee hills , banjara hills area followed by Himayat nagar, followed by Gacchibowli. "
   ]
  },
  {
   "cell_type": "markdown",
   "id": "9a458b81",
   "metadata": {},
   "source": [
    "## Consultation_fee column"
   ]
  },
  {
   "cell_type": "code",
   "execution_count": 160,
   "id": "057d5722",
   "metadata": {},
   "outputs": [
    {
     "name": "stdout",
     "output_type": "stream",
     "text": [
      "{500.0: 363, 600.0: 190, 300.0: 182, 1000.0: 88, 400.0: 86, 800.0: 85, 700.0: 83, 200.0: 55, 550.0: 33, 650.0: 27, 900.0: 26, 350.0: 24, 750.0: 22, 450.0: 19, 100.0: 19, 1500.0: 16, 250.0: 15, 1200.0: 9, 150.0: 8, 680.0: 7, 950.0: 6, 2000.0: 5, 0.0: 4, 630.0: 3, 1100.0: 3, 1.0: 3, 50.0: 2, 3000.0: 2, 1250.0: 2, 51.0: 2, 99.0: 1, 850.0: 1, 49.0: 1, 375.0: 1, 2500.0: 1, 499.0: 1, 299.0: 1}\n"
     ]
    }
   ],
   "source": [
    "print(dataset['Consultation_fee'].value_counts().to_dict())"
   ]
  },
  {
   "cell_type": "code",
   "execution_count": 161,
   "id": "0ffd975f",
   "metadata": {},
   "outputs": [
    {
     "data": {
      "text/plain": [
       "count    1396.000000\n",
       "mean      560.763610\n",
       "std       280.208704\n",
       "min         0.000000\n",
       "25%       400.000000\n",
       "50%       500.000000\n",
       "75%       685.000000\n",
       "max      3000.000000\n",
       "Name: Consultation_fee, dtype: float64"
      ]
     },
     "execution_count": 161,
     "metadata": {},
     "output_type": "execute_result"
    }
   ],
   "source": [
    "dataset['Consultation_fee'].describe()"
   ]
  },
  {
   "cell_type": "code",
   "execution_count": 162,
   "id": "056e2731",
   "metadata": {},
   "outputs": [
    {
     "data": {
      "image/png": "[encoded data removed]",
      "text/plain": [
       "<Figure size 1296x288 with 1 Axes>"
      ]
     },
     "metadata": {},
     "output_type": "display_data"
    }
   ],
   "source": [
    "plt.figure(figsize=(18,4))\n",
    "sns.distplot(dataset['Consultation_fee'])\n",
    "plt.show()"
   ]
  },
  {
   "cell_type": "markdown",
   "id": "7300fe4e",
   "metadata": {},
   "source": [
    "<span style='color:Blue'> *Observation:* </span>\n",
    "\n",
    "*Common Fee Ranges*: The most common consultation fee amounts in the dataset are around 500.0, 600.0, and 300.0, which appear frequently with counts of 227, 161, and 131, respectively.\n",
    "\n",
    "*Variability in Fees:* The distribution indicates a wide range of consultation fees, spanning from as low as 49.0 to as high as 3000.0. This suggests that different doctors or medical practices have diverse pricing structures.\n",
    "\n",
    "*Mid-Range Fees:* Fees in the mid-range, such as 500.0, 600.0, and 700.0, appear frequently. This could indicate that these fee amounts are considered standard or competitive within the healthcare market.\n",
    "\n",
    "*Higher Fees:* There are instances of relatively higher fees, such as 1000.0, 1200.0, and 1500.0, albeit with lower frequencies. These could be associated with specialized services or experienced practitioners.\n",
    "\n",
    "*Lower Fees:* Some lower fee amounts, like 100.0, 200.0, and 300.0, appear multiple times. These may represent initial consultation charges, discounted rates, or services that don't involve extensive procedures.\n",
    "\n",
    "*Uncommon Fees:* Fee amounts like 2500.0, 3000.0, and 1100.0 have very low frequencies.\n",
    "\n",
    "*Unique Fees:* Singular occurrences of fees like 49.0, 51.0, and 99.0 might be due to specific circumstances to serve patients.\n",
    "\n",
    "Pricing Strategy: The distribution of fees could indicate a pricing strategy among healthcare providers, with certain fee amounts being strategically chosen based on perceived value or competitive positioning.\n",
    "\n",
    "\n",
    "\n"
   ]
  },
  {
   "cell_type": "markdown",
   "id": "07194133",
   "metadata": {},
   "source": [
    "### Highest and Lowest consultation fees"
   ]
  },
  {
   "cell_type": "code",
   "execution_count": 163,
   "id": "1e5b75a8",
   "metadata": {},
   "outputs": [
    {
     "name": "stdout",
     "output_type": "stream",
     "text": [
      "Records with Highest Consultation Fees:\n"
     ]
    },
    {
     "data": {
      "text/html": [
       "<div>\n",
       "<style scoped>\n",
       "    .dataframe tbody tr th:only-of-type {\n",
       "        vertical-align: middle;\n",
       "    }\n",
       "\n",
       "    .dataframe tbody tr th {\n",
       "        vertical-align: top;\n",
       "    }\n",
       "\n",
       "    .dataframe thead th {\n",
       "        text-align: right;\n",
       "    }\n",
       "</style>\n",
       "<table border=\"1\" class=\"dataframe\">\n",
       "  <thead>\n",
       "    <tr style=\"text-align: right;\">\n",
       "      <th></th>\n",
       "      <th>Name</th>\n",
       "      <th>Speciality</th>\n",
       "      <th>Years_of_Experience</th>\n",
       "      <th>Area</th>\n",
       "      <th>Consultation_fee</th>\n",
       "      <th>Patient_stories</th>\n",
       "    </tr>\n",
       "  </thead>\n",
       "  <tbody>\n",
       "    <tr>\n",
       "      <th>712</th>\n",
       "      <td>Archana Satyam</td>\n",
       "      <td>General physician</td>\n",
       "      <td>11.0</td>\n",
       "      <td>Colony</td>\n",
       "      <td>3000.0</td>\n",
       "      <td>2.0</td>\n",
       "    </tr>\n",
       "    <tr>\n",
       "      <th>1175</th>\n",
       "      <td>B Kranthi Kiran</td>\n",
       "      <td>Psychiatrist</td>\n",
       "      <td>34.0</td>\n",
       "      <td>Hills</td>\n",
       "      <td>3000.0</td>\n",
       "      <td>44.0</td>\n",
       "    </tr>\n",
       "    <tr>\n",
       "      <th>570</th>\n",
       "      <td>G Harsha Vardhan Reddy</td>\n",
       "      <td>Gastroenterologist</td>\n",
       "      <td>8.0</td>\n",
       "      <td>Madhapur</td>\n",
       "      <td>2500.0</td>\n",
       "      <td>2.0</td>\n",
       "    </tr>\n",
       "    <tr>\n",
       "      <th>499</th>\n",
       "      <td>Shilpa Reddy Gill</td>\n",
       "      <td>Dermatologist</td>\n",
       "      <td>13.0</td>\n",
       "      <td>Hills</td>\n",
       "      <td>2000.0</td>\n",
       "      <td>NaN</td>\n",
       "    </tr>\n",
       "    <tr>\n",
       "      <th>769</th>\n",
       "      <td>Vimee Bindra</td>\n",
       "      <td>Gynecologist</td>\n",
       "      <td>15.0</td>\n",
       "      <td>Hills</td>\n",
       "      <td>2000.0</td>\n",
       "      <td>227.0</td>\n",
       "    </tr>\n",
       "    <tr>\n",
       "      <th>1167</th>\n",
       "      <td>Prabhakar Korada</td>\n",
       "      <td>Psychiatrist</td>\n",
       "      <td>48.0</td>\n",
       "      <td>Secunderabad</td>\n",
       "      <td>2000.0</td>\n",
       "      <td>10.0</td>\n",
       "    </tr>\n",
       "    <tr>\n",
       "      <th>1168</th>\n",
       "      <td>Nandini Bandikatla</td>\n",
       "      <td>Psychiatrist</td>\n",
       "      <td>23.0</td>\n",
       "      <td>Hills</td>\n",
       "      <td>2000.0</td>\n",
       "      <td>NaN</td>\n",
       "    </tr>\n",
       "    <tr>\n",
       "      <th>1170</th>\n",
       "      <td>MVR Sharma</td>\n",
       "      <td>Psychiatrist</td>\n",
       "      <td>44.0</td>\n",
       "      <td>Nagar</td>\n",
       "      <td>2000.0</td>\n",
       "      <td>3.0</td>\n",
       "    </tr>\n",
       "    <tr>\n",
       "      <th>134</th>\n",
       "      <td>Ramya P</td>\n",
       "      <td>Cardiology</td>\n",
       "      <td>11.0</td>\n",
       "      <td>Hills</td>\n",
       "      <td>1500.0</td>\n",
       "      <td>NaN</td>\n",
       "    </tr>\n",
       "    <tr>\n",
       "      <th>559</th>\n",
       "      <td>Subrahmaneswara Babu</td>\n",
       "      <td>Gastroenterologist</td>\n",
       "      <td>15.0</td>\n",
       "      <td>Secunderabad</td>\n",
       "      <td>1500.0</td>\n",
       "      <td>NaN</td>\n",
       "    </tr>\n",
       "  </tbody>\n",
       "</table>\n",
       "</div>"
      ],
      "text/plain": [
       "                        Name          Speciality  Years_of_Experience  \\\n",
       "712           Archana Satyam   General physician                 11.0   \n",
       "1175         B Kranthi Kiran        Psychiatrist                 34.0   \n",
       "570   G Harsha Vardhan Reddy  Gastroenterologist                  8.0   \n",
       "499        Shilpa Reddy Gill       Dermatologist                 13.0   \n",
       "769             Vimee Bindra        Gynecologist                 15.0   \n",
       "1167        Prabhakar Korada        Psychiatrist                 48.0   \n",
       "1168      Nandini Bandikatla        Psychiatrist                 23.0   \n",
       "1170              MVR Sharma        Psychiatrist                 44.0   \n",
       "134                  Ramya P          Cardiology                 11.0   \n",
       "559     Subrahmaneswara Babu  Gastroenterologist                 15.0   \n",
       "\n",
       "              Area  Consultation_fee  Patient_stories  \n",
       "712         Colony            3000.0              2.0  \n",
       "1175         Hills            3000.0             44.0  \n",
       "570       Madhapur            2500.0              2.0  \n",
       "499          Hills            2000.0              NaN  \n",
       "769          Hills            2000.0            227.0  \n",
       "1167  Secunderabad            2000.0             10.0  \n",
       "1168         Hills            2000.0              NaN  \n",
       "1170         Nagar            2000.0              3.0  \n",
       "134          Hills            1500.0              NaN  \n",
       "559   Secunderabad            1500.0              NaN  "
      ]
     },
     "execution_count": 163,
     "metadata": {},
     "output_type": "execute_result"
    }
   ],
   "source": [
    "# Retrieve records with highest consultation fees\n",
    "highest_fees = dataset.nlargest(10, 'Consultation_fee') \n",
    "\n",
    "# Display the retrieved records\n",
    "print(\"Records with Highest Consultation Fees:\")\n",
    "highest_fees"
   ]
  },
  {
   "cell_type": "code",
   "execution_count": 164,
   "id": "7b8571d4",
   "metadata": {},
   "outputs": [
    {
     "name": "stdout",
     "output_type": "stream",
     "text": [
      "\n",
      "Records with Lowest Consultation Fees:\n"
     ]
    },
    {
     "data": {
      "text/html": [
       "<div>\n",
       "<style scoped>\n",
       "    .dataframe tbody tr th:only-of-type {\n",
       "        vertical-align: middle;\n",
       "    }\n",
       "\n",
       "    .dataframe tbody tr th {\n",
       "        vertical-align: top;\n",
       "    }\n",
       "\n",
       "    .dataframe thead th {\n",
       "        text-align: right;\n",
       "    }\n",
       "</style>\n",
       "<table border=\"1\" class=\"dataframe\">\n",
       "  <thead>\n",
       "    <tr style=\"text-align: right;\">\n",
       "      <th></th>\n",
       "      <th>Name</th>\n",
       "      <th>Speciality</th>\n",
       "      <th>Years_of_Experience</th>\n",
       "      <th>Area</th>\n",
       "      <th>Consultation_fee</th>\n",
       "      <th>Patient_stories</th>\n",
       "    </tr>\n",
       "  </thead>\n",
       "  <tbody>\n",
       "    <tr>\n",
       "      <th>36</th>\n",
       "      <td>Vtv</td>\n",
       "      <td>Ayurveda</td>\n",
       "      <td>23.0</td>\n",
       "      <td>Kachiguda</td>\n",
       "      <td>0.0</td>\n",
       "      <td>NaN</td>\n",
       "    </tr>\n",
       "    <tr>\n",
       "      <th>64</th>\n",
       "      <td>Usha</td>\n",
       "      <td>Ayurveda</td>\n",
       "      <td>15.0</td>\n",
       "      <td>Banjara Hills</td>\n",
       "      <td>0.0</td>\n",
       "      <td>NaN</td>\n",
       "    </tr>\n",
       "    <tr>\n",
       "      <th>1268</th>\n",
       "      <td>Ramana</td>\n",
       "      <td>Psychiatrist</td>\n",
       "      <td>39.0</td>\n",
       "      <td>Banjara Hills</td>\n",
       "      <td>0.0</td>\n",
       "      <td>NaN</td>\n",
       "    </tr>\n",
       "    <tr>\n",
       "      <th>1334</th>\n",
       "      <td>B</td>\n",
       "      <td>Physiotherapist</td>\n",
       "      <td>21.0</td>\n",
       "      <td>Vanasthalipuram</td>\n",
       "      <td>0.0</td>\n",
       "      <td>NaN</td>\n",
       "    </tr>\n",
       "    <tr>\n",
       "      <th>78</th>\n",
       "      <td>Vtv</td>\n",
       "      <td>Ayurveda</td>\n",
       "      <td>23.0</td>\n",
       "      <td>NaN</td>\n",
       "      <td>1.0</td>\n",
       "      <td>NaN</td>\n",
       "    </tr>\n",
       "  </tbody>\n",
       "</table>\n",
       "</div>"
      ],
      "text/plain": [
       "        Name       Speciality  Years_of_Experience             Area  \\\n",
       "36       Vtv         Ayurveda                 23.0        Kachiguda   \n",
       "64      Usha         Ayurveda                 15.0    Banjara Hills   \n",
       "1268  Ramana     Psychiatrist                 39.0    Banjara Hills   \n",
       "1334       B  Physiotherapist                 21.0  Vanasthalipuram   \n",
       "78       Vtv         Ayurveda                 23.0              NaN   \n",
       "\n",
       "      Consultation_fee  Patient_stories  \n",
       "36                 0.0              NaN  \n",
       "64                 0.0              NaN  \n",
       "1268               0.0              NaN  \n",
       "1334               0.0              NaN  \n",
       "78                 1.0              NaN  "
      ]
     },
     "execution_count": 164,
     "metadata": {},
     "output_type": "execute_result"
    }
   ],
   "source": [
    "\n",
    "# Retrieve records with lowest consultation fees\n",
    "lowest_fees = dataset.nsmallest(5, 'Consultation_fee')  \n",
    "\n",
    "\n",
    "print(\"\\nRecords with Lowest Consultation Fees:\")\n",
    "lowest_fees"
   ]
  },
  {
   "cell_type": "markdown",
   "id": "41c6ef05",
   "metadata": {},
   "source": [
    "<span style='color:Blue'> *Observation:* </span>\n",
    "\n",
    "- General physicians are charging the most , Ayurvedhic and Homeopathic doctors are charging lower fees."
   ]
  },
  {
   "cell_type": "code",
   "execution_count": 165,
   "id": "bcb166fb",
   "metadata": {},
   "outputs": [
    {
     "data": {
      "image/png": "[encoded data removed]",
      "text/plain": [
       "<Figure size 1008x360 with 1 Axes>"
      ]
     },
     "metadata": {},
     "output_type": "display_data"
    }
   ],
   "source": [
    "plt.figure(figsize=(14, 5))\n",
    "sns.scatterplot(data=dataset, x='Speciality', y='Consultation_fee',  palette='rocket')\n",
    "plt.xticks(rotation=90)\n",
    "plt.title('Scatter Plot: Speciality vs. Consultation_fee')\n",
    "plt.tight_layout()\n",
    "plt.show()"
   ]
  },
  {
   "cell_type": "code",
   "execution_count": 166,
   "id": "a449c8f4",
   "metadata": {},
   "outputs": [
    {
     "data": {
      "image/png": "[encoded data removed]",
      "text/plain": [
       "<Figure size 1008x288 with 1 Axes>"
      ]
     },
     "metadata": {},
     "output_type": "display_data"
    }
   ],
   "source": [
    "plt.figure(figsize=(14, 4))\n",
    "sns.scatterplot(data=dataset, x='Years_of_Experience', y='Consultation_fee',  palette='Set2')\n",
    "plt.xticks(rotation=90)\n",
    "plt.title('Scatter Plot: Years of Experience vs. Consultation Fee)')\n",
    "plt.tight_layout()\n",
    "plt.show()"
   ]
  },
  {
   "cell_type": "code",
   "execution_count": 167,
   "id": "a70f9aff",
   "metadata": {},
   "outputs": [
    {
     "data": {
      "image/png": "[encoded data removed]",
      "text/plain": [
       "<Figure size 1008x288 with 1 Axes>"
      ]
     },
     "metadata": {},
     "output_type": "display_data"
    }
   ],
   "source": [
    "\n",
    "plt.figure(figsize=(14, 4))\n",
    "sns.scatterplot(data=dataset, y='Speciality', x='Years_of_Experience', hue='Consultation_fee', palette='seismic')\n",
    "plt.xticks(rotation=90)\n",
    "plt.title('Scatter Plot: Speciality vs. Years of Experience (Hue: Consultation Fee)')\n",
    "plt.xlabel('Speciality')\n",
    "plt.ylabel('Years of Experience')\n",
    "plt.legend(title='Consultation Fee')\n",
    "plt.tight_layout()\n",
    "plt.show()\n"
   ]
  },
  {
   "cell_type": "code",
   "execution_count": 168,
   "id": "d458f47d",
   "metadata": {},
   "outputs": [
    {
     "data": {
      "text/html": [
       "<div>\n",
       "<style scoped>\n",
       "    .dataframe tbody tr th:only-of-type {\n",
       "        vertical-align: middle;\n",
       "    }\n",
       "\n",
       "    .dataframe tbody tr th {\n",
       "        vertical-align: top;\n",
       "    }\n",
       "\n",
       "    .dataframe thead th {\n",
       "        text-align: right;\n",
       "    }\n",
       "</style>\n",
       "<table border=\"1\" class=\"dataframe\">\n",
       "  <thead>\n",
       "    <tr style=\"text-align: right;\">\n",
       "      <th></th>\n",
       "      <th>Years_of_Experience</th>\n",
       "      <th>Consultation_fee</th>\n",
       "      <th>Patient_stories</th>\n",
       "    </tr>\n",
       "  </thead>\n",
       "  <tbody>\n",
       "    <tr>\n",
       "      <th>count</th>\n",
       "      <td>1407.000000</td>\n",
       "      <td>1396.000000</td>\n",
       "      <td>744.000000</td>\n",
       "    </tr>\n",
       "    <tr>\n",
       "      <th>mean</th>\n",
       "      <td>17.763326</td>\n",
       "      <td>560.763610</td>\n",
       "      <td>62.822581</td>\n",
       "    </tr>\n",
       "    <tr>\n",
       "      <th>std</th>\n",
       "      <td>9.483616</td>\n",
       "      <td>280.208704</td>\n",
       "      <td>134.322198</td>\n",
       "    </tr>\n",
       "    <tr>\n",
       "      <th>min</th>\n",
       "      <td>2.000000</td>\n",
       "      <td>0.000000</td>\n",
       "      <td>2.000000</td>\n",
       "    </tr>\n",
       "    <tr>\n",
       "      <th>25%</th>\n",
       "      <td>11.000000</td>\n",
       "      <td>400.000000</td>\n",
       "      <td>7.000000</td>\n",
       "    </tr>\n",
       "    <tr>\n",
       "      <th>50%</th>\n",
       "      <td>15.000000</td>\n",
       "      <td>500.000000</td>\n",
       "      <td>18.000000</td>\n",
       "    </tr>\n",
       "    <tr>\n",
       "      <th>75%</th>\n",
       "      <td>22.000000</td>\n",
       "      <td>685.000000</td>\n",
       "      <td>56.250000</td>\n",
       "    </tr>\n",
       "    <tr>\n",
       "      <th>max</th>\n",
       "      <td>68.000000</td>\n",
       "      <td>3000.000000</td>\n",
       "      <td>1221.000000</td>\n",
       "    </tr>\n",
       "  </tbody>\n",
       "</table>\n",
       "</div>"
      ],
      "text/plain": [
       "       Years_of_Experience  Consultation_fee  Patient_stories\n",
       "count          1407.000000       1396.000000       744.000000\n",
       "mean             17.763326        560.763610        62.822581\n",
       "std               9.483616        280.208704       134.322198\n",
       "min               2.000000          0.000000         2.000000\n",
       "25%              11.000000        400.000000         7.000000\n",
       "50%              15.000000        500.000000        18.000000\n",
       "75%              22.000000        685.000000        56.250000\n",
       "max              68.000000       3000.000000      1221.000000"
      ]
     },
     "execution_count": 168,
     "metadata": {},
     "output_type": "execute_result"
    }
   ],
   "source": [
    "dataset.describe()"
   ]
  },
  {
   "cell_type": "markdown",
   "id": "29d187f2",
   "metadata": {},
   "source": [
    "## Data preprocessing"
   ]
  },
  {
   "cell_type": "code",
   "execution_count": 169,
   "id": "2b8d98f7",
   "metadata": {},
   "outputs": [],
   "source": [
    "# making a copy of dataset\n",
    "df_doc = dataset.copy()"
   ]
  },
  {
   "cell_type": "code",
   "execution_count": 170,
   "id": "17045e57",
   "metadata": {},
   "outputs": [
    {
     "data": {
      "text/plain": [
       "Name                    16\n",
       "Speciality               0\n",
       "Years_of_Experience     51\n",
       "Area                    99\n",
       "Consultation_fee        62\n",
       "Patient_stories        714\n",
       "dtype: int64"
      ]
     },
     "execution_count": 170,
     "metadata": {},
     "output_type": "execute_result"
    }
   ],
   "source": [
    "df_doc.isnull().sum()"
   ]
  },
  {
   "cell_type": "code",
   "execution_count": 171,
   "id": "78054bff",
   "metadata": {},
   "outputs": [],
   "source": [
    "# Calculate the mean of 'Consultation_fee'\n",
    "mean_fee = df_doc['Consultation_fee'].mean()\n",
    "\n",
    "# Impute missing values with the mean\n",
    "df_doc['Consultation_fee'].fillna(mean_fee, inplace=True)"
   ]
  },
  {
   "cell_type": "code",
   "execution_count": 172,
   "id": "b8d6d300",
   "metadata": {},
   "outputs": [
    {
     "data": {
      "text/plain": [
       "Name                    16\n",
       "Speciality               0\n",
       "Years_of_Experience     51\n",
       "Area                    99\n",
       "Consultation_fee         0\n",
       "Patient_stories        714\n",
       "dtype: int64"
      ]
     },
     "execution_count": 172,
     "metadata": {},
     "output_type": "execute_result"
    }
   ],
   "source": [
    "df_doc.isnull().sum()"
   ]
  },
  {
   "cell_type": "code",
   "execution_count": 173,
   "id": "7c951234",
   "metadata": {
    "scrolled": false
   },
   "outputs": [
    {
     "data": {
      "text/plain": [
       "array(['Ameerpet', 'Shaikpet', 'KPHB', 'Nagar', 'Kukatpally',\n",
       "       'Bachupally', 'Manikonda', 'Erragadda', 'Colony', 'Lingampally',\n",
       "       'Yousufguda', 'Hills', 'Secunderabad', 'Mehdipatnam', 'Hafeezpet',\n",
       "       'Kothapet', nan, 'Sanjeeva Reddy Nagar', 'Malakpet', 'Neredmet',\n",
       "       'Chaudhari Clinic  KPHB', 'Miyapur', 'Somajiguda', 'Santosh Nagar',\n",
       "       'Punjagutta', 'Kachiguda', 'Vanasthalipuram', 'Meerpet',\n",
       "       'Gachibowli', 'Puppalaguda', 'Moosapet', 'Koti', 'Khairatabad',\n",
       "       'Rajendra Nagar', 'Kanchanbagh', 'Banjara Hills', 'Nallakunta',\n",
       "       'Habsiguda', 'Kokapet', 'Dilsukhnagar', 'Karwan', 'Rampally',\n",
       "       'Pragathi Nagar', 'Madinaguda', 'Basheerbagh', 'Attapur',\n",
       "       'Hyderguda', 'Karmanghat', 'Isnapur', 'Karkhana', 'Moti Nagar',\n",
       "       'City', 'Nallagandla', 'city', 'Kondapur', 'Nizampet', 'Nacharam',\n",
       "       'Road', 'Khajaguda', 'Marredpally', 'Alwal', 'Tolichowki',\n",
       "       'Borabanda', 'Malkajgiri', 'Balanagar', 'Begumpet', 'Mansoorabad',\n",
       "       'Chintal', 'Madhapur', 'Tarnaka', 'Medipally', 'BHEL',\n",
       "       'Nanakramguda', 'Kapra', 'Domalguda', 'District', 'Narsingi',\n",
       "       'Sainikpuri', 'Nagole', 'Peerzadiguda', 'Jeedimetla', 'Champapet',\n",
       "       'Kushaiguda', 'Hayathnagar', 'Vidyanagar', 'Chintalmet',\n",
       "       'Narayanguda', 'Ramkoti', 'Ecil', 'Circle', 'Amberpet', 'Kompally',\n",
       "       'Chaitanyapuri', 'Uppal', 'Beeramguda', 'Serilingampally',\n",
       "       'Boduppal', 'Dammaiguda', 'Barkatpura', 'Lakdikapul', 'Bandlaguda',\n",
       "       'Quthbullapur', 'Ramanthapur', 'Bowenpally', 'Houz', 'Village',\n",
       "       'Tank', 'Trimulgherry', 'Medchal', 'Lothkunta', 'Saidabad',\n",
       "       'Balapur', 'Shivrampally', 'Nampally', 'Toli Chowki',\n",
       "       'Chanda Nagar', 'Masab Tank', 'Himayath Nagar', 'Venkatapuram',\n",
       "       'ECIL', 'Old Bowenpally', 'Vanaja Hospital', 'Sanath Nagar',\n",
       "       'Shamshabad', 'MBBSPsychiatry Clinic', 'L B Nagar', 'Musheerabad',\n",
       "       'Jubilee Hills', 'Chintalkunta',\n",
       "       'PHYSIOTHERAPY CLINIC   Vanasthalipuram', 'West Marredpally',\n",
       "       'Ram Nagar', 'Gajularamaram', 'Saifabad', 'Ashok Colony',\n",
       "       'Bala Nagar', 'Madhurawada', 'Allergy Clinic  Vanasthalipuram',\n",
       "       'Bod Uppal', 'Nagarjuna Sagar Road', 'Hi Tech City',\n",
       "       'Humayun Nagar', 'Yashoda Hospital', 'Kamalangar'], dtype=object)"
      ]
     },
     "execution_count": 173,
     "metadata": {},
     "output_type": "execute_result"
    }
   ],
   "source": [
    "dataset['Area'].unique()"
   ]
  },
  {
   "cell_type": "code",
   "execution_count": null,
   "id": "535da0aa",
   "metadata": {},
   "outputs": [],
   "source": []
  },
  {
   "cell_type": "code",
   "execution_count": null,
   "id": "fe28ffa6",
   "metadata": {},
   "outputs": [],
   "source": []
  },
  {
   "cell_type": "code",
   "execution_count": 174,
   "id": "a517a8c6",
   "metadata": {},
   "outputs": [],
   "source": [
    "\n",
    "\n",
    "# Function to categorize the areas into zones\n",
    "def categorize_area(area):\n",
    "    east_zones = ['KPHB', 'Nagole', 'Dilsukhnagar', 'Mehdipatnam', 'Kothapet', 'L B Nagar', 'Hayathnagar', 'Vanasthalipuram', 'Neredmet', 'Toli Chowki',  'Moosapet', 'Sanath Nagar', 'Kapra', 'ECIL', 'Amberpet', 'Boduppal', 'Dammaiguda', 'Karmanghat', 'Nagole', 'Saidabad', 'Boduppal', 'Shivrampally',  'Saidabad', 'Karmanghat', 'Isnapur', 'Vanasthalipuram',  'Hayathnagar', 'Karwan', 'Rampally', 'Madinaguda', 'Kothapet', 'Habsiguda',  'Hyderguda', 'Karmanghat', 'Karkhana', 'Moti Nagar', 'Gachibowli', 'Puppalaguda', 'Moosapet', 'Lingampally', 'Basheerbagh', 'Attapur', 'Hyderguda', 'Karmanghat', 'Isnapur', 'Karkhana', 'Moti Nagar',  'Secunderabad, Hyderabad', 'city, Hyderabad', 'Kondapur, Hyderabad', 'Nizampet, Hyderabad', 'Kanchanbagh, Hyderabad', 'Nacharam, Hyderabad', 'Road, Hyderabad', 'Khajaguda, Hyderabad', 'Marredpally, Hyderabad', 'Karkhana, Hyderabad', 'Kokapet, Hyderabad', 'Alwal, Hyderabad', 'Tolichowki, Hyderabad', 'Borabanda, Hyderabad', 'Malkajgiri, Hyderabad', 'Balanagar, Hyderabad', 'Begumpet, Hyderabad', 'Mansoorabad, Hyderabad', 'Chintal, Hyderabad', 'Madhapur, Hyderabad', 'Nallakunta, Hyderabad', 'Madinaguda, Hyderabad', 'Mehdipatnam, Hyderabad', 'Vanasthalipuram, Hyderabad', 'Tarnaka, Hyderabad', 'Medipally, Hyderabad', 'BHEL, Hyderabad', 'Nanakramguda, Hyderabad', 'Kachiguda, Hyderabad', 'Dilsukhnagar, Hyderabad', 'Kapra, Hyderabad', 'Domalguda, Hyderabad', 'District, Hyderabad', 'Narsingi, Hyderabad', 'Sainikpuri, Hyderabad', 'Miyapur, Hyderabad', 'Kothapet, Hyderabad', 'Nagole, Hyderabad', 'Attapur, Hyderabad', 'Habsiguda, Hyderabad', 'Peerzadiguda, Hyderabad',  'Champapet, Hyderabad', 'Somajiguda, Hyderabad', 'Punjagutta, Hyderabad', 'Kushaiguda, Hyderabad', 'Hayathnagar, Hyderabad', 'Vidyanagar, Hyderabad', 'Chintalmet, Hyderabad', 'Narayanguda, Hyderabad', 'Ramkoti, Hyderabad', 'Ecil, Hyderabad', 'Circle, Hyderabad', 'Amberpet, Hyderabad', 'Kompally, Hyderabad', 'Chaitanyapuri, Hyderabad', 'Uppal, Hyderabad',  'Boduppal, Hyderabad', 'Dammaiguda, Hyderabad', 'Karmanghat, Hyderabad', 'Barkatpura, Hyderabad', 'Lakdikapul, Hyderabad', 'Bandlaguda, Hyderabad', 'Quthbullapur, Hyderabad', 'Ramanthapur, Hyderabad', 'Moosapet, Hyderabad', 'Bowenpally, Hyderabad', 'Houz, Hyderabad', 'Village, Hyderabad', 'Tank, Hyderabad', 'Trimulgherry, Hyderabad', 'Malakpet, Hyderabad', 'Medchal, Hyderabad', 'Meerpet, Hyderabad', 'Lothkunta, Hyderabad', 'Saidabad, Hyderabad', 'Balapur, Hyderabad', 'Shivrampally, Hyderabad', 'Nampally, Hyderabad', 'Toli Chowki',  'Masab Tank', 'Ameerpet', 'Himayath Nagar', 'Venkatapuram',  'ECIL',  'Kapra', 'Old Bowenpally', 'Vanaja Hospital', 'Sanath Nagar', 'Kompally', 'Shamshabad', 'MBBSPsychiatry Clinic', 'L B Nagar', 'Malkajgiri', 'Musheerabad',  'Domalguda', 'Jubilee Hills', 'Bowenpally', 'Sainikpuri', 'Chintalkunta']\n",
    "    \n",
    "    if area in east_zones:\n",
    "        return 'East'\n",
    "    elif area in ['Hills','District','Nizampet', 'Madhapur','Yousufguda', 'Erragadda', 'Kukatpally','Nallagandla',  'Erragadda, Hyderabad', 'City','Banjara Hills' ]:\n",
    "        return 'West'\n",
    "    elif area in ['Manikonda','Tolichowki','Hyderabad','Kokapet', 'Hyderguda', 'Nagar' ,'Santosh Nagar', 'Somajiguda', 'Shaikpet', 'Nampally']:\n",
    "        return 'South'\n",
    "    elif area in ['Secunderabad','City, Hyderabad','Nallakunta','Kondapur','Nanakramguda', 'Gachibowli, Hyderabad', 'Nallagandla, Hyderabad','Jubilee Hills', 'Lingampally','Jeedimetla, Hyderabad','Bachupally','Serilingampally, Hyderabad','Chanda Nagar', 'Jeedimetla','Colony','Chintal','Serilingampally','Narayanguda','Tarnaka', 'Miyapur','Nacharam', 'Begumpet', 'Malkajgiri', 'Chanda Nagar','Trimulgherry','Hafeezpet', 'Kushaiguda','Pragathi Nagar']:\n",
    "        return 'North'\n",
    "    else:\n",
    "        return 'Central'\n",
    "\n",
    "# Apply the categorize_area function to the 'Area' column and create a new 'Zone' column\n",
    "df_doc['Zone'] = df_doc['Area'].apply(categorize_area)\n",
    "\n"
   ]
  },
  {
   "cell_type": "code",
   "execution_count": 175,
   "id": "6cd1a8d8",
   "metadata": {},
   "outputs": [
    {
     "data": {
      "text/html": [
       "<div>\n",
       "<style scoped>\n",
       "    .dataframe tbody tr th:only-of-type {\n",
       "        vertical-align: middle;\n",
       "    }\n",
       "\n",
       "    .dataframe tbody tr th {\n",
       "        vertical-align: top;\n",
       "    }\n",
       "\n",
       "    .dataframe thead th {\n",
       "        text-align: right;\n",
       "    }\n",
       "</style>\n",
       "<table border=\"1\" class=\"dataframe\">\n",
       "  <thead>\n",
       "    <tr style=\"text-align: right;\">\n",
       "      <th></th>\n",
       "      <th>Name</th>\n",
       "      <th>Speciality</th>\n",
       "      <th>Years_of_Experience</th>\n",
       "      <th>Area</th>\n",
       "      <th>Consultation_fee</th>\n",
       "      <th>Patient_stories</th>\n",
       "      <th>Zone</th>\n",
       "    </tr>\n",
       "  </thead>\n",
       "  <tbody>\n",
       "    <tr>\n",
       "      <th>0</th>\n",
       "      <td>M</td>\n",
       "      <td>Ayurveda</td>\n",
       "      <td>24.0</td>\n",
       "      <td>Ameerpet</td>\n",
       "      <td>500.0</td>\n",
       "      <td>65.0</td>\n",
       "      <td>East</td>\n",
       "    </tr>\n",
       "    <tr>\n",
       "      <th>1</th>\n",
       "      <td>C Narmada</td>\n",
       "      <td>Ayurveda</td>\n",
       "      <td>23.0</td>\n",
       "      <td>Shaikpet</td>\n",
       "      <td>500.0</td>\n",
       "      <td>18.0</td>\n",
       "      <td>South</td>\n",
       "    </tr>\n",
       "    <tr>\n",
       "      <th>2</th>\n",
       "      <td>Priti Thakre</td>\n",
       "      <td>Ayurveda</td>\n",
       "      <td>21.0</td>\n",
       "      <td>KPHB</td>\n",
       "      <td>500.0</td>\n",
       "      <td>11.0</td>\n",
       "      <td>East</td>\n",
       "    </tr>\n",
       "    <tr>\n",
       "      <th>3</th>\n",
       "      <td>Alivelu Manga</td>\n",
       "      <td>Ayurveda</td>\n",
       "      <td>25.0</td>\n",
       "      <td>Nagar</td>\n",
       "      <td>299.0</td>\n",
       "      <td>9.0</td>\n",
       "      <td>South</td>\n",
       "    </tr>\n",
       "    <tr>\n",
       "      <th>4</th>\n",
       "      <td>G</td>\n",
       "      <td>Ayurveda</td>\n",
       "      <td>18.0</td>\n",
       "      <td>Kukatpally</td>\n",
       "      <td>500.0</td>\n",
       "      <td>53.0</td>\n",
       "      <td>West</td>\n",
       "    </tr>\n",
       "  </tbody>\n",
       "</table>\n",
       "</div>"
      ],
      "text/plain": [
       "            Name Speciality  Years_of_Experience        Area  \\\n",
       "0              M   Ayurveda                 24.0    Ameerpet   \n",
       "1      C Narmada   Ayurveda                 23.0    Shaikpet   \n",
       "2   Priti Thakre   Ayurveda                 21.0        KPHB   \n",
       "3  Alivelu Manga   Ayurveda                 25.0       Nagar   \n",
       "4              G   Ayurveda                 18.0  Kukatpally   \n",
       "\n",
       "   Consultation_fee  Patient_stories   Zone  \n",
       "0             500.0             65.0   East  \n",
       "1             500.0             18.0  South  \n",
       "2             500.0             11.0   East  \n",
       "3             299.0              9.0  South  \n",
       "4             500.0             53.0   West  "
      ]
     },
     "execution_count": 175,
     "metadata": {},
     "output_type": "execute_result"
    }
   ],
   "source": [
    "df_doc.head()"
   ]
  },
  {
   "cell_type": "code",
   "execution_count": 176,
   "id": "04dfd29e",
   "metadata": {},
   "outputs": [
    {
     "data": {
      "text/plain": [
       "East       386\n",
       "West       380\n",
       "Central    279\n",
       "North      227\n",
       "South      186\n",
       "Name: Zone, dtype: int64"
      ]
     },
     "execution_count": 176,
     "metadata": {},
     "output_type": "execute_result"
    }
   ],
   "source": [
    "df_doc['Zone'].value_counts()"
   ]
  },
  {
   "cell_type": "code",
   "execution_count": 177,
   "id": "06fd39d9",
   "metadata": {
    "scrolled": false
   },
   "outputs": [
    {
     "data": {
      "text/plain": [
       "{23: nan,\n",
       " 24: 'Sanjeeva Reddy Nagar',\n",
       " 25: 'Malakpet',\n",
       " 27: 'Chaudhari Clinic  KPHB',\n",
       " 29: nan,\n",
       " 32: 'Punjagutta',\n",
       " 33: nan,\n",
       " 34: nan,\n",
       " 36: 'Kachiguda',\n",
       " 37: nan,\n",
       " 38: nan,\n",
       " 39: 'Punjagutta',\n",
       " 40: 'Kachiguda',\n",
       " 43: nan,\n",
       " 44: nan,\n",
       " 45: 'Meerpet',\n",
       " 49: nan,\n",
       " 51: nan,\n",
       " 52: nan,\n",
       " 53: 'Koti',\n",
       " 56: nan,\n",
       " 58: 'Khairatabad',\n",
       " 59: 'Rajendra Nagar',\n",
       " 61: nan,\n",
       " 63: 'Kanchanbagh',\n",
       " 65: nan,\n",
       " 69: nan,\n",
       " 71: nan,\n",
       " 75: nan,\n",
       " 76: nan,\n",
       " 78: nan,\n",
       " 82: 'Khairatabad',\n",
       " 84: nan,\n",
       " 92: nan,\n",
       " 93: nan,\n",
       " 94: nan,\n",
       " 96: nan,\n",
       " 97: nan,\n",
       " 99: nan,\n",
       " 102: nan,\n",
       " 142: 'city',\n",
       " 146: 'Kanchanbagh',\n",
       " 149: 'Kanchanbagh',\n",
       " 160: 'Road',\n",
       " 166: 'Khajaguda',\n",
       " 167: 'Marredpally',\n",
       " 173: 'Alwal',\n",
       " 175: 'Borabanda',\n",
       " 180: 'Balanagar',\n",
       " 182: 'Mansoorabad',\n",
       " 203: 'Marredpally',\n",
       " 209: 'Road',\n",
       " 218: 'Medipally',\n",
       " 219: 'BHEL',\n",
       " 223: 'Kachiguda',\n",
       " 250: 'Narsingi',\n",
       " 282: 'Marredpally',\n",
       " 310: 'Peerzadiguda',\n",
       " 319: 'Champapet',\n",
       " 328: 'Punjagutta',\n",
       " 343: 'Vidyanagar',\n",
       " 346: 'Alwal',\n",
       " 360: 'Marredpally',\n",
       " 361: 'Chintalmet',\n",
       " 367: 'Alwal',\n",
       " 373: 'city',\n",
       " 381: 'Vidyanagar',\n",
       " 390: 'Ramkoti',\n",
       " 391: 'Ecil',\n",
       " 402: 'Narsingi',\n",
       " 416: 'Circle',\n",
       " 480: 'Alwal',\n",
       " 492: 'Marredpally',\n",
       " 494: 'Circle',\n",
       " 496: 'Kanchanbagh',\n",
       " 500: 'Ecil',\n",
       " 504: 'Chaitanyapuri',\n",
       " 511: 'Uppal',\n",
       " 516: 'Road',\n",
       " 523: 'Road',\n",
       " 527: 'Road',\n",
       " 532: 'Beeramguda',\n",
       " 533: 'Kanchanbagh',\n",
       " 534: 'Kachiguda',\n",
       " 566: 'Uppal',\n",
       " 578: 'Narsingi',\n",
       " 584: 'Uppal',\n",
       " 586: 'Uppal',\n",
       " 591: 'Uppal',\n",
       " 633: 'Barkatpura',\n",
       " 634: 'Uppal',\n",
       " 635: 'Lakdikapul',\n",
       " 636: 'Uppal',\n",
       " 642: 'Uppal',\n",
       " 646: 'Road',\n",
       " 653: 'Road',\n",
       " 670: 'Bandlaguda',\n",
       " 680: 'Road',\n",
       " 681: 'Uppal',\n",
       " 689: 'city',\n",
       " 690: 'Kanchanbagh',\n",
       " 692: 'Vidyanagar',\n",
       " 706: 'Uppal',\n",
       " 720: 'Peerzadiguda',\n",
       " 721: 'Kachiguda',\n",
       " 722: 'Road',\n",
       " 726: 'Ecil',\n",
       " 727: 'Ecil',\n",
       " 736: 'Narsingi',\n",
       " 741: 'Quthbullapur',\n",
       " 757: 'Ramanthapur',\n",
       " 792: 'Houz',\n",
       " 797: 'Marredpally',\n",
       " 799: 'Alwal',\n",
       " 819: 'Kanchanbagh',\n",
       " 824: 'Marredpally',\n",
       " 825: 'Village',\n",
       " 832: 'Marredpally',\n",
       " 836: 'Tank',\n",
       " 841: 'Marredpally',\n",
       " 849: 'Ramanthapur',\n",
       " 866: 'Kachiguda',\n",
       " 875: 'Kachiguda',\n",
       " 881: 'Kachiguda',\n",
       " 896: 'Tank',\n",
       " 899: 'Kachiguda',\n",
       " 917: 'city',\n",
       " 931: 'Kanchanbagh',\n",
       " 935: 'Marredpally',\n",
       " 949: 'Ecil',\n",
       " 950: 'Peerzadiguda',\n",
       " 952: 'Kachiguda',\n",
       " 953: 'Road',\n",
       " 954: 'Peerzadiguda',\n",
       " 957: 'Champapet',\n",
       " 963: 'Uppal',\n",
       " 974: 'Road',\n",
       " 997: 'Road',\n",
       " 1004: 'Road',\n",
       " 1006: 'Road',\n",
       " 1008: 'Road',\n",
       " 1009: 'Road',\n",
       " 1011: 'Kanchanbagh',\n",
       " 1013: 'Kanchanbagh',\n",
       " 1016: 'Kanchanbagh',\n",
       " 1028: 'Road',\n",
       " 1029: 'Road',\n",
       " 1030: 'Uppal',\n",
       " 1031: 'Road',\n",
       " 1034: 'Uppal',\n",
       " 1035: 'Peerzadiguda',\n",
       " 1036: 'Malakpet',\n",
       " 1039: 'Kachiguda',\n",
       " 1040: 'Road',\n",
       " 1041: 'Ecil',\n",
       " 1042: 'Peerzadiguda',\n",
       " 1043: 'Road',\n",
       " 1064: 'Kanchanbagh',\n",
       " 1075: 'Ecil',\n",
       " 1076: 'Ecil',\n",
       " 1078: 'Kachiguda',\n",
       " 1079: 'Peerzadiguda',\n",
       " 1088: 'Mansoorabad',\n",
       " 1089: 'Medchal',\n",
       " 1090: 'Marredpally',\n",
       " 1092: 'Meerpet',\n",
       " 1097: 'Bandlaguda',\n",
       " 1104: 'Lothkunta',\n",
       " 1111: 'city',\n",
       " 1113: 'Uppal',\n",
       " 1114: 'Balapur',\n",
       " 1142: 'Marredpally',\n",
       " 1144: 'Road',\n",
       " 1148: 'city',\n",
       " 1164: 'Alwal',\n",
       " 1181: 'Circle',\n",
       " 1188: nan,\n",
       " 1189: nan,\n",
       " 1196: nan,\n",
       " 1199: nan,\n",
       " 1203: nan,\n",
       " 1208: nan,\n",
       " 1210: nan,\n",
       " 1219: nan,\n",
       " 1220: nan,\n",
       " 1223: nan,\n",
       " 1224: nan,\n",
       " 1234: nan,\n",
       " 1238: nan,\n",
       " 1240: nan,\n",
       " 1242: 'Malakpet',\n",
       " 1243: nan,\n",
       " 1246: nan,\n",
       " 1250: nan,\n",
       " 1251: nan,\n",
       " 1255: nan,\n",
       " 1256: nan,\n",
       " 1269: nan,\n",
       " 1276: nan,\n",
       " 1278: nan,\n",
       " 1281: 'PHYSIOTHERAPY CLINIC   Vanasthalipuram',\n",
       " 1283: nan,\n",
       " 1285: nan,\n",
       " 1287: nan,\n",
       " 1295: 'West Marredpally',\n",
       " 1296: nan,\n",
       " 1299: nan,\n",
       " 1305: 'Alwal',\n",
       " 1307: nan,\n",
       " 1308: nan,\n",
       " 1310: 'Ramanthapur',\n",
       " 1311: 'Ram Nagar',\n",
       " 1312: nan,\n",
       " 1314: nan,\n",
       " 1315: 'Gajularamaram',\n",
       " 1320: nan,\n",
       " 1321: nan,\n",
       " 1325: 'Alwal',\n",
       " 1331: nan,\n",
       " 1332: nan,\n",
       " 1333: 'Saifabad',\n",
       " 1336: nan,\n",
       " 1338: nan,\n",
       " 1339: nan,\n",
       " 1346: nan,\n",
       " 1347: 'Khairatabad',\n",
       " 1348: nan,\n",
       " 1349: nan,\n",
       " 1350: 'Malakpet',\n",
       " 1351: nan,\n",
       " 1354: nan,\n",
       " 1357: nan,\n",
       " 1358: nan,\n",
       " 1359: nan,\n",
       " 1362: 'Peerzadiguda',\n",
       " 1366: 'Uppal',\n",
       " 1371: 'Ashok Colony',\n",
       " 1377: 'Kanchanbagh',\n",
       " 1379: nan,\n",
       " 1382: nan,\n",
       " 1388: 'Malakpet',\n",
       " 1391: nan,\n",
       " 1392: nan,\n",
       " 1394: 'Kanchanbagh',\n",
       " 1396: nan,\n",
       " 1397: nan,\n",
       " 1398: 'Bala Nagar',\n",
       " 1400: nan,\n",
       " 1403: nan,\n",
       " 1404: 'Malakpet',\n",
       " 1406: nan,\n",
       " 1407: nan,\n",
       " 1410: 'Madhurawada',\n",
       " 1412: 'Allergy Clinic  Vanasthalipuram',\n",
       " 1414: nan,\n",
       " 1417: nan,\n",
       " 1418: nan,\n",
       " 1419: 'Bod Uppal',\n",
       " 1420: nan,\n",
       " 1421: nan,\n",
       " 1422: 'Beeramguda',\n",
       " 1424: nan,\n",
       " 1428: nan,\n",
       " 1429: nan,\n",
       " 1430: nan,\n",
       " 1433: 'Alwal',\n",
       " 1434: 'Nagarjuna Sagar Road',\n",
       " 1435: nan,\n",
       " 1436: 'Hi Tech City',\n",
       " 1438: nan,\n",
       " 1439: 'Kachiguda',\n",
       " 1440: 'Humayun Nagar',\n",
       " 1441: nan,\n",
       " 1443: 'Yashoda Hospital',\n",
       " 1445: nan,\n",
       " 1446: 'Punjagutta',\n",
       " 1448: 'Kamalangar',\n",
       " 1451: nan,\n",
       " 1454: nan}"
      ]
     },
     "execution_count": 177,
     "metadata": {},
     "output_type": "execute_result"
    }
   ],
   "source": [
    "# Filter the DataFrame to only include areas in the 'Other' zone\n",
    "dict(df_doc[df_doc['Zone'] == 'Central']['Area'])\n"
   ]
  },
  {
   "cell_type": "code",
   "execution_count": null,
   "id": "a2a32839",
   "metadata": {},
   "outputs": [],
   "source": []
  },
  {
   "cell_type": "code",
   "execution_count": 178,
   "id": "4ff76fcf",
   "metadata": {},
   "outputs": [
    {
     "data": {
      "text/plain": [
       "East       386\n",
       "West       380\n",
       "Central    279\n",
       "North      227\n",
       "South      186\n",
       "Name: Zone, dtype: int64"
      ]
     },
     "execution_count": 178,
     "metadata": {},
     "output_type": "execute_result"
    }
   ],
   "source": [
    "df_doc['Zone'].value_counts()"
   ]
  },
  {
   "cell_type": "code",
   "execution_count": 179,
   "id": "6b186915",
   "metadata": {},
   "outputs": [
    {
     "data": {
      "text/html": [
       "<div>\n",
       "<style scoped>\n",
       "    .dataframe tbody tr th:only-of-type {\n",
       "        vertical-align: middle;\n",
       "    }\n",
       "\n",
       "    .dataframe tbody tr th {\n",
       "        vertical-align: top;\n",
       "    }\n",
       "\n",
       "    .dataframe thead th {\n",
       "        text-align: right;\n",
       "    }\n",
       "</style>\n",
       "<table border=\"1\" class=\"dataframe\">\n",
       "  <thead>\n",
       "    <tr style=\"text-align: right;\">\n",
       "      <th></th>\n",
       "      <th>Name</th>\n",
       "      <th>Speciality</th>\n",
       "      <th>Years_of_Experience</th>\n",
       "      <th>Area</th>\n",
       "      <th>Consultation_fee</th>\n",
       "      <th>Patient_stories</th>\n",
       "      <th>Zone</th>\n",
       "    </tr>\n",
       "  </thead>\n",
       "  <tbody>\n",
       "    <tr>\n",
       "      <th>0</th>\n",
       "      <td>M</td>\n",
       "      <td>Ayurveda</td>\n",
       "      <td>24.0</td>\n",
       "      <td>Ameerpet</td>\n",
       "      <td>500.0</td>\n",
       "      <td>65.0</td>\n",
       "      <td>East</td>\n",
       "    </tr>\n",
       "    <tr>\n",
       "      <th>1</th>\n",
       "      <td>C Narmada</td>\n",
       "      <td>Ayurveda</td>\n",
       "      <td>23.0</td>\n",
       "      <td>Shaikpet</td>\n",
       "      <td>500.0</td>\n",
       "      <td>18.0</td>\n",
       "      <td>South</td>\n",
       "    </tr>\n",
       "    <tr>\n",
       "      <th>2</th>\n",
       "      <td>Priti Thakre</td>\n",
       "      <td>Ayurveda</td>\n",
       "      <td>21.0</td>\n",
       "      <td>KPHB</td>\n",
       "      <td>500.0</td>\n",
       "      <td>11.0</td>\n",
       "      <td>East</td>\n",
       "    </tr>\n",
       "    <tr>\n",
       "      <th>3</th>\n",
       "      <td>Alivelu Manga</td>\n",
       "      <td>Ayurveda</td>\n",
       "      <td>25.0</td>\n",
       "      <td>Nagar</td>\n",
       "      <td>299.0</td>\n",
       "      <td>9.0</td>\n",
       "      <td>South</td>\n",
       "    </tr>\n",
       "    <tr>\n",
       "      <th>4</th>\n",
       "      <td>G</td>\n",
       "      <td>Ayurveda</td>\n",
       "      <td>18.0</td>\n",
       "      <td>Kukatpally</td>\n",
       "      <td>500.0</td>\n",
       "      <td>53.0</td>\n",
       "      <td>West</td>\n",
       "    </tr>\n",
       "  </tbody>\n",
       "</table>\n",
       "</div>"
      ],
      "text/plain": [
       "            Name Speciality  Years_of_Experience        Area  \\\n",
       "0              M   Ayurveda                 24.0    Ameerpet   \n",
       "1      C Narmada   Ayurveda                 23.0    Shaikpet   \n",
       "2   Priti Thakre   Ayurveda                 21.0        KPHB   \n",
       "3  Alivelu Manga   Ayurveda                 25.0       Nagar   \n",
       "4              G   Ayurveda                 18.0  Kukatpally   \n",
       "\n",
       "   Consultation_fee  Patient_stories   Zone  \n",
       "0             500.0             65.0   East  \n",
       "1             500.0             18.0  South  \n",
       "2             500.0             11.0   East  \n",
       "3             299.0              9.0  South  \n",
       "4             500.0             53.0   West  "
      ]
     },
     "execution_count": 179,
     "metadata": {},
     "output_type": "execute_result"
    }
   ],
   "source": [
    "df_doc.head()"
   ]
  },
  {
   "cell_type": "code",
   "execution_count": 180,
   "id": "532db463",
   "metadata": {},
   "outputs": [],
   "source": [
    "df= df_doc[[ 'Speciality','Zone', 'Years_of_Experience',  'Consultation_fee']]"
   ]
  },
  {
   "cell_type": "code",
   "execution_count": 181,
   "id": "0873978a",
   "metadata": {},
   "outputs": [
    {
     "data": {
      "text/html": [
       "<div>\n",
       "<style scoped>\n",
       "    .dataframe tbody tr th:only-of-type {\n",
       "        vertical-align: middle;\n",
       "    }\n",
       "\n",
       "    .dataframe tbody tr th {\n",
       "        vertical-align: top;\n",
       "    }\n",
       "\n",
       "    .dataframe thead th {\n",
       "        text-align: right;\n",
       "    }\n",
       "</style>\n",
       "<table border=\"1\" class=\"dataframe\">\n",
       "  <thead>\n",
       "    <tr style=\"text-align: right;\">\n",
       "      <th></th>\n",
       "      <th>Speciality</th>\n",
       "      <th>Zone</th>\n",
       "      <th>Years_of_Experience</th>\n",
       "      <th>Consultation_fee</th>\n",
       "    </tr>\n",
       "  </thead>\n",
       "  <tbody>\n",
       "    <tr>\n",
       "      <th>0</th>\n",
       "      <td>Ayurveda</td>\n",
       "      <td>East</td>\n",
       "      <td>24.0</td>\n",
       "      <td>500.0</td>\n",
       "    </tr>\n",
       "    <tr>\n",
       "      <th>1</th>\n",
       "      <td>Ayurveda</td>\n",
       "      <td>South</td>\n",
       "      <td>23.0</td>\n",
       "      <td>500.0</td>\n",
       "    </tr>\n",
       "    <tr>\n",
       "      <th>2</th>\n",
       "      <td>Ayurveda</td>\n",
       "      <td>East</td>\n",
       "      <td>21.0</td>\n",
       "      <td>500.0</td>\n",
       "    </tr>\n",
       "    <tr>\n",
       "      <th>3</th>\n",
       "      <td>Ayurveda</td>\n",
       "      <td>South</td>\n",
       "      <td>25.0</td>\n",
       "      <td>299.0</td>\n",
       "    </tr>\n",
       "    <tr>\n",
       "      <th>4</th>\n",
       "      <td>Ayurveda</td>\n",
       "      <td>West</td>\n",
       "      <td>18.0</td>\n",
       "      <td>500.0</td>\n",
       "    </tr>\n",
       "  </tbody>\n",
       "</table>\n",
       "</div>"
      ],
      "text/plain": [
       "  Speciality   Zone  Years_of_Experience  Consultation_fee\n",
       "0   Ayurveda   East                 24.0             500.0\n",
       "1   Ayurveda  South                 23.0             500.0\n",
       "2   Ayurveda   East                 21.0             500.0\n",
       "3   Ayurveda  South                 25.0             299.0\n",
       "4   Ayurveda   West                 18.0             500.0"
      ]
     },
     "execution_count": 181,
     "metadata": {},
     "output_type": "execute_result"
    }
   ],
   "source": [
    "df.head()"
   ]
  },
  {
   "cell_type": "code",
   "execution_count": 182,
   "id": "c7f8dae5",
   "metadata": {},
   "outputs": [
    {
     "name": "stdout",
     "output_type": "stream",
     "text": [
      "<class 'pandas.core.frame.DataFrame'>\n",
      "RangeIndex: 1458 entries, 0 to 1457\n",
      "Data columns (total 4 columns):\n",
      " #   Column               Non-Null Count  Dtype  \n",
      "---  ------               --------------  -----  \n",
      " 0   Speciality           1458 non-null   object \n",
      " 1   Zone                 1458 non-null   object \n",
      " 2   Years_of_Experience  1407 non-null   float64\n",
      " 3   Consultation_fee     1458 non-null   float64\n",
      "dtypes: float64(2), object(2)\n",
      "memory usage: 45.7+ KB\n"
     ]
    }
   ],
   "source": [
    "df.info()"
   ]
  },
  {
   "cell_type": "code",
   "execution_count": 183,
   "id": "a08f27b8",
   "metadata": {},
   "outputs": [
    {
     "data": {
      "text/html": [
       "<div>\n",
       "<style scoped>\n",
       "    .dataframe tbody tr th:only-of-type {\n",
       "        vertical-align: middle;\n",
       "    }\n",
       "\n",
       "    .dataframe tbody tr th {\n",
       "        vertical-align: top;\n",
       "    }\n",
       "\n",
       "    .dataframe thead th {\n",
       "        text-align: right;\n",
       "    }\n",
       "</style>\n",
       "<table border=\"1\" class=\"dataframe\">\n",
       "  <thead>\n",
       "    <tr style=\"text-align: right;\">\n",
       "      <th></th>\n",
       "      <th>Years_of_Experience</th>\n",
       "      <th>Consultation_fee</th>\n",
       "    </tr>\n",
       "  </thead>\n",
       "  <tbody>\n",
       "    <tr>\n",
       "      <th>Years_of_Experience</th>\n",
       "      <td>1.000000</td>\n",
       "      <td>0.181316</td>\n",
       "    </tr>\n",
       "    <tr>\n",
       "      <th>Consultation_fee</th>\n",
       "      <td>0.181316</td>\n",
       "      <td>1.000000</td>\n",
       "    </tr>\n",
       "  </tbody>\n",
       "</table>\n",
       "</div>"
      ],
      "text/plain": [
       "                     Years_of_Experience  Consultation_fee\n",
       "Years_of_Experience             1.000000          0.181316\n",
       "Consultation_fee                0.181316          1.000000"
      ]
     },
     "execution_count": 183,
     "metadata": {},
     "output_type": "execute_result"
    }
   ],
   "source": [
    "df.corr()"
   ]
  },
  {
   "cell_type": "code",
   "execution_count": 184,
   "id": "c23332ea",
   "metadata": {},
   "outputs": [
    {
     "data": {
      "image/png": "[encoded data removed]",
      "text/plain": [
       "<Figure size 1152x72 with 1 Axes>"
      ]
     },
     "metadata": {},
     "output_type": "display_data"
    }
   ],
   "source": [
    "plt.figure(figsize=(16,1))\n",
    "sns.boxplot(data=df['Consultation_fee'], orient='h' ,color='y')\n",
    "plt.show()"
   ]
  },
  {
   "cell_type": "code",
   "execution_count": 185,
   "id": "2dd16a3a",
   "metadata": {},
   "outputs": [],
   "source": [
    "### Function to Cap Outlier\n",
    "def remove_outliers(in_data, in_col):\n",
    "    # Finding the IQR\n",
    "    first_quartile = in_data[in_col].quantile(0.25)\n",
    "    third_quartile = in_data[in_col].quantile(0.75)\n",
    "    iqr = third_quartile - first_quartile\n",
    "    upper_limit = third_quartile + 1.5 * iqr\n",
    "    lower_limit = first_quartile - 1.5 * iqr\n",
    "    in_data.loc[(in_data[in_col]>upper_limit), in_col]= upper_limit\n",
    "    in_data.loc[(in_data[in_col]<lower_limit), in_col]= lower_limit\n",
    "    return in_data"
   ]
  },
  {
   "cell_type": "code",
   "execution_count": 186,
   "id": "e36313ed",
   "metadata": {},
   "outputs": [
    {
     "data": {
      "text/html": [
       "<div>\n",
       "<style scoped>\n",
       "    .dataframe tbody tr th:only-of-type {\n",
       "        vertical-align: middle;\n",
       "    }\n",
       "\n",
       "    .dataframe tbody tr th {\n",
       "        vertical-align: top;\n",
       "    }\n",
       "\n",
       "    .dataframe thead th {\n",
       "        text-align: right;\n",
       "    }\n",
       "</style>\n",
       "<table border=\"1\" class=\"dataframe\">\n",
       "  <thead>\n",
       "    <tr style=\"text-align: right;\">\n",
       "      <th></th>\n",
       "      <th>Speciality</th>\n",
       "      <th>Zone</th>\n",
       "      <th>Years_of_Experience</th>\n",
       "      <th>Consultation_fee</th>\n",
       "    </tr>\n",
       "  </thead>\n",
       "  <tbody>\n",
       "    <tr>\n",
       "      <th>0</th>\n",
       "      <td>Ayurveda</td>\n",
       "      <td>East</td>\n",
       "      <td>24.0</td>\n",
       "      <td>500.00000</td>\n",
       "    </tr>\n",
       "    <tr>\n",
       "      <th>1</th>\n",
       "      <td>Ayurveda</td>\n",
       "      <td>South</td>\n",
       "      <td>23.0</td>\n",
       "      <td>500.00000</td>\n",
       "    </tr>\n",
       "    <tr>\n",
       "      <th>2</th>\n",
       "      <td>Ayurveda</td>\n",
       "      <td>East</td>\n",
       "      <td>21.0</td>\n",
       "      <td>500.00000</td>\n",
       "    </tr>\n",
       "    <tr>\n",
       "      <th>3</th>\n",
       "      <td>Ayurveda</td>\n",
       "      <td>South</td>\n",
       "      <td>25.0</td>\n",
       "      <td>299.00000</td>\n",
       "    </tr>\n",
       "    <tr>\n",
       "      <th>4</th>\n",
       "      <td>Ayurveda</td>\n",
       "      <td>West</td>\n",
       "      <td>18.0</td>\n",
       "      <td>500.00000</td>\n",
       "    </tr>\n",
       "    <tr>\n",
       "      <th>...</th>\n",
       "      <td>...</td>\n",
       "      <td>...</td>\n",
       "      <td>...</td>\n",
       "      <td>...</td>\n",
       "    </tr>\n",
       "    <tr>\n",
       "      <th>1453</th>\n",
       "      <td>Physiotherapist</td>\n",
       "      <td>East</td>\n",
       "      <td>18.0</td>\n",
       "      <td>500.00000</td>\n",
       "    </tr>\n",
       "    <tr>\n",
       "      <th>1454</th>\n",
       "      <td>Physiotherapist</td>\n",
       "      <td>Central</td>\n",
       "      <td>24.0</td>\n",
       "      <td>450.00000</td>\n",
       "    </tr>\n",
       "    <tr>\n",
       "      <th>1455</th>\n",
       "      <td>Physiotherapist</td>\n",
       "      <td>East</td>\n",
       "      <td>25.0</td>\n",
       "      <td>560.76361</td>\n",
       "    </tr>\n",
       "    <tr>\n",
       "      <th>1456</th>\n",
       "      <td>Physiotherapist</td>\n",
       "      <td>North</td>\n",
       "      <td>24.0</td>\n",
       "      <td>650.00000</td>\n",
       "    </tr>\n",
       "    <tr>\n",
       "      <th>1457</th>\n",
       "      <td>Physiotherapist</td>\n",
       "      <td>South</td>\n",
       "      <td>31.0</td>\n",
       "      <td>560.76361</td>\n",
       "    </tr>\n",
       "  </tbody>\n",
       "</table>\n",
       "<p>1458 rows × 4 columns</p>\n",
       "</div>"
      ],
      "text/plain": [
       "           Speciality     Zone  Years_of_Experience  Consultation_fee\n",
       "0            Ayurveda     East                 24.0         500.00000\n",
       "1            Ayurveda    South                 23.0         500.00000\n",
       "2            Ayurveda     East                 21.0         500.00000\n",
       "3            Ayurveda    South                 25.0         299.00000\n",
       "4            Ayurveda     West                 18.0         500.00000\n",
       "...               ...      ...                  ...               ...\n",
       "1453  Physiotherapist     East                 18.0         500.00000\n",
       "1454  Physiotherapist  Central                 24.0         450.00000\n",
       "1455  Physiotherapist     East                 25.0         560.76361\n",
       "1456  Physiotherapist    North                 24.0         650.00000\n",
       "1457  Physiotherapist    South                 31.0         560.76361\n",
       "\n",
       "[1458 rows x 4 columns]"
      ]
     },
     "execution_count": 186,
     "metadata": {},
     "output_type": "execute_result"
    }
   ],
   "source": [
    "remove_outliers(df, 'Consultation_fee')"
   ]
  },
  {
   "cell_type": "code",
   "execution_count": 187,
   "id": "bc41c559",
   "metadata": {},
   "outputs": [
    {
     "data": {
      "image/png": "[encoded data removed]",
      "text/plain": [
       "<Figure size 1152x72 with 1 Axes>"
      ]
     },
     "metadata": {},
     "output_type": "display_data"
    }
   ],
   "source": [
    "plt.figure(figsize=(16,1))\n",
    "sns.boxplot(data=df['Consultation_fee'], orient='h' ,color='y')\n",
    "plt.show()"
   ]
  },
  {
   "cell_type": "code",
   "execution_count": 188,
   "id": "a70e28ec",
   "metadata": {},
   "outputs": [
    {
     "data": {
      "text/html": [
       "<div>\n",
       "<style scoped>\n",
       "    .dataframe tbody tr th:only-of-type {\n",
       "        vertical-align: middle;\n",
       "    }\n",
       "\n",
       "    .dataframe tbody tr th {\n",
       "        vertical-align: top;\n",
       "    }\n",
       "\n",
       "    .dataframe thead th {\n",
       "        text-align: right;\n",
       "    }\n",
       "</style>\n",
       "<table border=\"1\" class=\"dataframe\">\n",
       "  <thead>\n",
       "    <tr style=\"text-align: right;\">\n",
       "      <th></th>\n",
       "      <th>Speciality</th>\n",
       "      <th>Zone</th>\n",
       "      <th>Years_of_Experience</th>\n",
       "      <th>Consultation_fee</th>\n",
       "    </tr>\n",
       "  </thead>\n",
       "  <tbody>\n",
       "    <tr>\n",
       "      <th>0</th>\n",
       "      <td>Ayurveda</td>\n",
       "      <td>East</td>\n",
       "      <td>24.0</td>\n",
       "      <td>500.0</td>\n",
       "    </tr>\n",
       "    <tr>\n",
       "      <th>1</th>\n",
       "      <td>Ayurveda</td>\n",
       "      <td>South</td>\n",
       "      <td>23.0</td>\n",
       "      <td>500.0</td>\n",
       "    </tr>\n",
       "    <tr>\n",
       "      <th>2</th>\n",
       "      <td>Ayurveda</td>\n",
       "      <td>East</td>\n",
       "      <td>21.0</td>\n",
       "      <td>500.0</td>\n",
       "    </tr>\n",
       "    <tr>\n",
       "      <th>3</th>\n",
       "      <td>Ayurveda</td>\n",
       "      <td>South</td>\n",
       "      <td>25.0</td>\n",
       "      <td>299.0</td>\n",
       "    </tr>\n",
       "    <tr>\n",
       "      <th>4</th>\n",
       "      <td>Ayurveda</td>\n",
       "      <td>West</td>\n",
       "      <td>18.0</td>\n",
       "      <td>500.0</td>\n",
       "    </tr>\n",
       "  </tbody>\n",
       "</table>\n",
       "</div>"
      ],
      "text/plain": [
       "  Speciality   Zone  Years_of_Experience  Consultation_fee\n",
       "0   Ayurveda   East                 24.0             500.0\n",
       "1   Ayurveda  South                 23.0             500.0\n",
       "2   Ayurveda   East                 21.0             500.0\n",
       "3   Ayurveda  South                 25.0             299.0\n",
       "4   Ayurveda   West                 18.0             500.0"
      ]
     },
     "execution_count": 188,
     "metadata": {},
     "output_type": "execute_result"
    }
   ],
   "source": [
    "df.head()"
   ]
  },
  {
   "cell_type": "code",
   "execution_count": 189,
   "id": "4efe20d6",
   "metadata": {},
   "outputs": [
    {
     "data": {
      "text/plain": [
       "Speciality              0\n",
       "Zone                    0\n",
       "Years_of_Experience    51\n",
       "Consultation_fee        0\n",
       "dtype: int64"
      ]
     },
     "execution_count": 189,
     "metadata": {},
     "output_type": "execute_result"
    }
   ],
   "source": [
    "df.isnull().sum()"
   ]
  },
  {
   "cell_type": "code",
   "execution_count": 223,
   "id": "553560d7",
   "metadata": {},
   "outputs": [],
   "source": [
    "# Fill missing values in 'Years_of_Experience' with the mean of the column\n",
    "mean_experience = df['Years_of_Experience'].mode()\n",
    "df['Years_of_Experience'].fillna(mean_experience, inplace=True)"
   ]
  },
  {
   "cell_type": "code",
   "execution_count": 191,
   "id": "ed154097",
   "metadata": {},
   "outputs": [
    {
     "data": {
      "text/plain": [
       "Speciality             0\n",
       "Zone                   0\n",
       "Years_of_Experience    0\n",
       "Consultation_fee       0\n",
       "dtype: int64"
      ]
     },
     "execution_count": 191,
     "metadata": {},
     "output_type": "execute_result"
    }
   ],
   "source": [
    "df.isnull().sum()"
   ]
  },
  {
   "cell_type": "code",
   "execution_count": 192,
   "id": "c10ade10",
   "metadata": {},
   "outputs": [
    {
     "name": "stdout",
     "output_type": "stream",
     "text": [
      "Ayurveda              1000\n",
      "Cardiology            1000\n",
      "Dentist               1000\n",
      "Dermatologist         1000\n",
      "ENT                   1000\n",
      "Gastroenterologist    1000\n",
      "General physician     1000\n",
      "Gynecologist          1000\n",
      "Homeopathy            1000\n",
      "Neurologist           1000\n",
      "Orthopedic            1000\n",
      "Urologist             1000\n",
      "Pediatrician          1000\n",
      "Physiotherapist       1000\n",
      "Psychiatrist          1000\n",
      "Name: Speciality, dtype: int64\n"
     ]
    }
   ],
   "source": [
    "# Resample each specialty class to have 500 samples\n",
    "resampled_dfs = []\n",
    "for specialty in df['Speciality'].unique():\n",
    "    specialty_df = df[df['Speciality'] == specialty]\n",
    "    oversampled_df = specialty_df.sample(n=1000, replace=True)\n",
    "    resampled_dfs.append(oversampled_df)\n",
    "\n",
    "resampled_df = pd.concat(resampled_dfs)\n",
    "\n",
    "# Print the value counts to verify\n",
    "print(resampled_df['Speciality'].value_counts())"
   ]
  },
  {
   "cell_type": "code",
   "execution_count": 224,
   "id": "a69a83b6",
   "metadata": {},
   "outputs": [
    {
     "data": {
      "text/html": [
       "<div>\n",
       "<style scoped>\n",
       "    .dataframe tbody tr th:only-of-type {\n",
       "        vertical-align: middle;\n",
       "    }\n",
       "\n",
       "    .dataframe tbody tr th {\n",
       "        vertical-align: top;\n",
       "    }\n",
       "\n",
       "    .dataframe thead th {\n",
       "        text-align: right;\n",
       "    }\n",
       "</style>\n",
       "<table border=\"1\" class=\"dataframe\">\n",
       "  <thead>\n",
       "    <tr style=\"text-align: right;\">\n",
       "      <th></th>\n",
       "      <th>Speciality</th>\n",
       "      <th>Zone</th>\n",
       "      <th>Years_of_Experience</th>\n",
       "      <th>Consultation_fee</th>\n",
       "    </tr>\n",
       "  </thead>\n",
       "  <tbody>\n",
       "    <tr>\n",
       "      <th>42</th>\n",
       "      <td>Ayurveda</td>\n",
       "      <td>West</td>\n",
       "      <td>13.000000</td>\n",
       "      <td>700.0</td>\n",
       "    </tr>\n",
       "    <tr>\n",
       "      <th>80</th>\n",
       "      <td>Ayurveda</td>\n",
       "      <td>North</td>\n",
       "      <td>17.763326</td>\n",
       "      <td>500.0</td>\n",
       "    </tr>\n",
       "    <tr>\n",
       "      <th>34</th>\n",
       "      <td>Ayurveda</td>\n",
       "      <td>Central</td>\n",
       "      <td>3.000000</td>\n",
       "      <td>250.0</td>\n",
       "    </tr>\n",
       "    <tr>\n",
       "      <th>19</th>\n",
       "      <td>Ayurveda</td>\n",
       "      <td>North</td>\n",
       "      <td>22.000000</td>\n",
       "      <td>200.0</td>\n",
       "    </tr>\n",
       "    <tr>\n",
       "      <th>47</th>\n",
       "      <td>Ayurveda</td>\n",
       "      <td>East</td>\n",
       "      <td>4.000000</td>\n",
       "      <td>500.0</td>\n",
       "    </tr>\n",
       "  </tbody>\n",
       "</table>\n",
       "</div>"
      ],
      "text/plain": [
       "   Speciality     Zone  Years_of_Experience  Consultation_fee\n",
       "42   Ayurveda     West            13.000000             700.0\n",
       "80   Ayurveda    North            17.763326             500.0\n",
       "34   Ayurveda  Central             3.000000             250.0\n",
       "19   Ayurveda    North            22.000000             200.0\n",
       "47   Ayurveda     East             4.000000             500.0"
      ]
     },
     "execution_count": 224,
     "metadata": {},
     "output_type": "execute_result"
    }
   ],
   "source": [
    "resampled_df.head()"
   ]
  },
  {
   "cell_type": "code",
   "execution_count": 194,
   "id": "4c73061e",
   "metadata": {},
   "outputs": [],
   "source": [
    "df1 = resampled_df.copy()"
   ]
  },
  {
   "cell_type": "code",
   "execution_count": 195,
   "id": "2fce18fe",
   "metadata": {},
   "outputs": [
    {
     "data": {
      "text/plain": [
       "(15000, 4)"
      ]
     },
     "execution_count": 195,
     "metadata": {},
     "output_type": "execute_result"
    }
   ],
   "source": [
    "df1.shape"
   ]
  },
  {
   "cell_type": "code",
   "execution_count": 196,
   "id": "b9d77049",
   "metadata": {},
   "outputs": [],
   "source": [
    "# Modelling\n",
    "from sklearn.metrics import mean_squared_error, r2_score\n",
    "from sklearn.neighbors import KNeighborsRegressor\n",
    "from sklearn.tree import DecisionTreeRegressor\n",
    "from sklearn.ensemble import RandomForestRegressor, AdaBoostRegressor, GradientBoostingRegressor\n",
    "from sklearn.svm import SVR\n",
    "from sklearn.linear_model import LinearRegression, Ridge,Lasso\n",
    "from sklearn.metrics import r2_score, mean_absolute_error, mean_squared_error\n",
    "from sklearn.model_selection import GridSearchCV\n",
    "from sklearn.model_selection import RandomizedSearchCV\n",
    "from xgboost import XGBRegressor\n",
    "\n",
    "from sklearn.pipeline import Pipeline\n",
    "from sklearn.impute import SimpleImputer\n",
    "from sklearn.preprocessing import OneHotEncoder, StandardScaler\n",
    "from sklearn.compose import ColumnTransformer"
   ]
  },
  {
   "cell_type": "code",
   "execution_count": 197,
   "id": "4448fc38",
   "metadata": {},
   "outputs": [],
   "source": [
    "X = df1.drop(columns=['Consultation_fee'],axis=1)"
   ]
  },
  {
   "cell_type": "code",
   "execution_count": 198,
   "id": "48f3fc19",
   "metadata": {},
   "outputs": [],
   "source": [
    "y= df1['Consultation_fee']"
   ]
  },
  {
   "cell_type": "code",
   "execution_count": 199,
   "id": "0a07daf8",
   "metadata": {},
   "outputs": [
    {
     "name": "stdout",
     "output_type": "stream",
     "text": [
      "(15000, 3) (15000,)\n"
     ]
    }
   ],
   "source": [
    "print(X.shape, y.shape)"
   ]
  },
  {
   "cell_type": "code",
   "execution_count": 200,
   "id": "63c77ef1",
   "metadata": {},
   "outputs": [],
   "source": [
    "# Create Column Transformer with 3 types of transformers\n",
    "num_features = X.select_dtypes(exclude=\"object\").columns\n",
    "cat_features = X.select_dtypes(include=\"object\").columns"
   ]
  },
  {
   "cell_type": "code",
   "execution_count": 201,
   "id": "4c35fc5d",
   "metadata": {},
   "outputs": [
    {
     "data": {
      "text/plain": [
       "Index(['Years_of_Experience'], dtype='object')"
      ]
     },
     "execution_count": 201,
     "metadata": {},
     "output_type": "execute_result"
    }
   ],
   "source": [
    "num_features"
   ]
  },
  {
   "cell_type": "code",
   "execution_count": 202,
   "id": "42c143af",
   "metadata": {},
   "outputs": [
    {
     "data": {
      "text/plain": [
       "Index(['Speciality', 'Zone'], dtype='object')"
      ]
     },
     "execution_count": 202,
     "metadata": {},
     "output_type": "execute_result"
    }
   ],
   "source": [
    "cat_features"
   ]
  },
  {
   "cell_type": "code",
   "execution_count": 203,
   "id": "56eb5207",
   "metadata": {},
   "outputs": [],
   "source": [
    "from sklearn.decomposition import PCA\n",
    "\n",
    "num_pipeline = Pipeline(\n",
    "    steps=[\n",
    "        (\"imputer\", SimpleImputer(strategy=\"median\")),\n",
    "        (\"scaler\", StandardScaler())\n",
    "    ]\n",
    ")\n",
    "\n",
    "cat_pipeline = Pipeline(\n",
    "    steps=[\n",
    "        (\"imputer\", SimpleImputer(strategy=\"most_frequent\")),\n",
    "        (\"one_hot_encoder\", OneHotEncoder())\n",
    "    ]\n",
    ")\n",
    "\n",
    "preprocessor = ColumnTransformer(\n",
    "    transformers=[\n",
    "        (\"num_pipeline\", num_pipeline, num_features),\n",
    "        (\"cat_pipeline\", cat_pipeline, cat_features)\n",
    "    ]\n",
    ")\n",
    "\n",
    "# Adding PCA to the pipeline\n",
    "pca = PCA(n_components=2)  \n",
    "\n",
    "final_pipeline = Pipeline(\n",
    "    steps=[\n",
    "        (\"preprocessor\", preprocessor),\n",
    "        (\"pca\", pca)\n",
    "    ]\n",
    ")\n"
   ]
  },
  {
   "cell_type": "code",
   "execution_count": null,
   "id": "3574ffa5",
   "metadata": {},
   "outputs": [],
   "source": []
  },
  {
   "cell_type": "code",
   "execution_count": 204,
   "id": "e7fe06d4",
   "metadata": {},
   "outputs": [],
   "source": [
    "X = preprocessor.fit_transform(X)"
   ]
  },
  {
   "cell_type": "code",
   "execution_count": 205,
   "id": "b058dada",
   "metadata": {},
   "outputs": [
    {
     "data": {
      "text/plain": [
       "(15000, 21)"
      ]
     },
     "execution_count": 205,
     "metadata": {},
     "output_type": "execute_result"
    }
   ],
   "source": [
    "X.shape"
   ]
  },
  {
   "cell_type": "code",
   "execution_count": 206,
   "id": "113d0f88",
   "metadata": {},
   "outputs": [
    {
     "data": {
      "text/plain": [
       "((11250, 21), (3750, 21))"
      ]
     },
     "execution_count": 206,
     "metadata": {},
     "output_type": "execute_result"
    }
   ],
   "source": [
    "# separate dataset into train and test\n",
    "from sklearn.model_selection import train_test_split\n",
    "X_train, X_test, y_train, y_test = train_test_split(X,y,test_size=0.25,random_state=2)\n",
    "X_train.shape, X_test.shape"
   ]
  },
  {
   "cell_type": "code",
   "execution_count": 207,
   "id": "71d4c14e",
   "metadata": {},
   "outputs": [],
   "source": [
    "def evaluate_model(true, predicted):\n",
    "    mae = mean_absolute_error(true, predicted)\n",
    "    mse = mean_squared_error(true, predicted)\n",
    "    rmse = np.sqrt(mean_squared_error(true, predicted))\n",
    "    r2_square = r2_score(true, predicted)\n",
    "    # Calculate Adjusted R2\n",
    "    n = len(true)\n",
    "    p = X_train.shape[1]  # Number of predictors\n",
    "    adjusted_r2 = 1 - ((1 - r2_square) * (n - 1) / (n - p - 1))\n",
    "    \n",
    "    return mae, rmse, r2_square, adjusted_r2"
   ]
  },
  {
   "cell_type": "code",
   "execution_count": 208,
   "id": "4e6882b4",
   "metadata": {
    "scrolled": false
   },
   "outputs": [
    {
     "name": "stdout",
     "output_type": "stream",
     "text": [
      "Linear Regression\n",
      "Model performance for Training set\n",
      "- Root Mean Squared Error: 172.5541\n",
      "- Mean Absolute Error: 136.6494\n",
      "- R2 Score: 0.3775\n",
      "- Adjusted R2: 0.3763\n",
      "----------------------------------\n",
      "Model performance for Test set\n",
      "- Root Mean Squared Error: 171.1745\n",
      "- Mean Absolute Error: 135.4232\n",
      "- R2 Score: 0.3940\n",
      "- Adjusted R2: 0.3906\n",
      "===================================\n",
      "\n",
      "\n",
      "Lasso\n",
      "Model performance for Training set\n",
      "- Root Mean Squared Error: 173.1161\n",
      "- Mean Absolute Error: 137.0720\n",
      "- R2 Score: 0.3734\n",
      "- Adjusted R2: 0.3723\n",
      "----------------------------------\n",
      "Model performance for Test set\n",
      "- Root Mean Squared Error: 171.7729\n",
      "- Mean Absolute Error: 136.0426\n",
      "- R2 Score: 0.3898\n",
      "- Adjusted R2: 0.3864\n",
      "===================================\n",
      "\n",
      "\n",
      "Ridge\n",
      "Model performance for Training set\n",
      "- Root Mean Squared Error: 172.5542\n",
      "- Mean Absolute Error: 136.6466\n",
      "- R2 Score: 0.3775\n",
      "- Adjusted R2: 0.3763\n",
      "----------------------------------\n",
      "Model performance for Test set\n",
      "- Root Mean Squared Error: 171.1764\n",
      "- Mean Absolute Error: 135.4235\n",
      "- R2 Score: 0.3940\n",
      "- Adjusted R2: 0.3906\n",
      "===================================\n",
      "\n",
      "\n",
      "K-Neighbors Regressor\n",
      "Model performance for Training set\n",
      "- Root Mean Squared Error: 94.2244\n",
      "- Mean Absolute Error: 45.5644\n",
      "- R2 Score: 0.8144\n",
      "- Adjusted R2: 0.8140\n",
      "----------------------------------\n",
      "Model performance for Test set\n",
      "- Root Mean Squared Error: 101.8888\n",
      "- Mean Absolute Error: 52.5008\n",
      "- R2 Score: 0.7853\n",
      "- Adjusted R2: 0.7841\n",
      "===================================\n",
      "\n",
      "\n",
      "Decision Tree\n",
      "Model performance for Training set\n",
      "- Root Mean Squared Error: 84.8134\n",
      "- Mean Absolute Error: 41.9549\n",
      "- R2 Score: 0.8496\n",
      "- Adjusted R2: 0.8493\n",
      "----------------------------------\n",
      "Model performance for Test set\n",
      "- Root Mean Squared Error: 90.1287\n",
      "- Mean Absolute Error: 46.0222\n",
      "- R2 Score: 0.8320\n",
      "- Adjusted R2: 0.8311\n",
      "===================================\n",
      "\n",
      "\n",
      "Random Forest Regressor\n",
      "Model performance for Training set\n",
      "- Root Mean Squared Error: 84.9502\n",
      "- Mean Absolute Error: 42.3817\n",
      "- R2 Score: 0.8491\n",
      "- Adjusted R2: 0.8488\n",
      "----------------------------------\n",
      "Model performance for Test set\n",
      "- Root Mean Squared Error: 90.1855\n",
      "- Mean Absolute Error: 47.1047\n",
      "- R2 Score: 0.8318\n",
      "- Adjusted R2: 0.8308\n",
      "===================================\n",
      "\n",
      "\n",
      "Gradient Boost Regressor\n",
      "Model performance for Training set\n",
      "- Root Mean Squared Error: 153.9346\n",
      "- Mean Absolute Error: 121.2492\n",
      "- R2 Score: 0.5046\n",
      "- Adjusted R2: 0.5037\n",
      "----------------------------------\n",
      "Model performance for Test set\n",
      "- Root Mean Squared Error: 155.0227\n",
      "- Mean Absolute Error: 121.8752\n",
      "- R2 Score: 0.5030\n",
      "- Adjusted R2: 0.5002\n",
      "===================================\n",
      "\n",
      "\n",
      "XGBRegressor\n",
      "Model performance for Training set\n",
      "- Root Mean Squared Error: 89.8470\n",
      "- Mean Absolute Error: 55.2222\n",
      "- R2 Score: 0.8312\n",
      "- Adjusted R2: 0.8309\n",
      "----------------------------------\n",
      "Model performance for Test set\n",
      "- Root Mean Squared Error: 95.2532\n",
      "- Mean Absolute Error: 59.9648\n",
      "- R2 Score: 0.8124\n",
      "- Adjusted R2: 0.8113\n",
      "===================================\n",
      "\n",
      "\n",
      "AdaBoost Regressor\n",
      "Model performance for Training set\n",
      "- Root Mean Squared Error: 190.7103\n",
      "- Mean Absolute Error: 152.8522\n",
      "- R2 Score: 0.2396\n",
      "- Adjusted R2: 0.2382\n",
      "----------------------------------\n",
      "Model performance for Test set\n",
      "- Root Mean Squared Error: 190.4183\n",
      "- Mean Absolute Error: 152.1226\n",
      "- R2 Score: 0.2501\n",
      "- Adjusted R2: 0.2459\n",
      "===================================\n",
      "\n",
      "\n"
     ]
    }
   ],
   "source": [
    "models = {\n",
    "    \"Linear Regression\": LinearRegression(),\n",
    "    \"Lasso\": Lasso(),\n",
    "    \"Ridge\": Ridge(),\n",
    "    \"K-Neighbors Regressor\": KNeighborsRegressor(),\n",
    "    \"Decision Tree\": DecisionTreeRegressor(),\n",
    "    \"Random Forest Regressor\": RandomForestRegressor(),\n",
    "    \"Gradient Boost Regressor\":GradientBoostingRegressor(),\n",
    "    \"XGBRegressor\": XGBRegressor(),\n",
    "    \"AdaBoost Regressor\": AdaBoostRegressor()\n",
    "}\n",
    "model_list = []\n",
    "r2_list =[]\n",
    "adjusted_r2_list = []\n",
    "\n",
    "for i in range(len(list(models))):\n",
    "    model = list(models.values())[i]\n",
    "    model.fit(X_train, y_train) # Train model\n",
    "\n",
    "    # Make predictions\n",
    "    y_train_pred = model.predict(X_train)\n",
    "    y_test_pred = model.predict(X_test)\n",
    "\n",
    "    # Evaluate Train and Test dataset\n",
    "    (\n",
    "        model_train_mae,\n",
    "        model_train_rmse,\n",
    "        model_train_r2,\n",
    "        model_train_adjusted_r2,\n",
    "    ) = evaluate_model(y_train, y_train_pred)\n",
    "\n",
    "    (\n",
    "        model_test_mae,\n",
    "        model_test_rmse,\n",
    "        model_test_r2,\n",
    "        model_test_adjusted_r2,\n",
    "    ) = evaluate_model(y_test, y_test_pred)\n",
    "\n",
    "\n",
    "    print(list(models.keys())[i])\n",
    "    model_list.append(list(models.keys())[i])\n",
    "\n",
    "    print('Model performance for Training set')\n",
    "    print(\"- Root Mean Squared Error: {:.4f}\".format(model_train_rmse))\n",
    "    print(\"- Mean Absolute Error: {:.4f}\".format(model_train_mae))\n",
    "    print(\"- R2 Score: {:.4f}\".format(model_train_r2))\n",
    "    print(\"- Adjusted R2: {:.4f}\".format(model_train_adjusted_r2))\n",
    "\n",
    "    print('----------------------------------')\n",
    "\n",
    "    print('Model performance for Test set')\n",
    "    print(\"- Root Mean Squared Error: {:.4f}\".format(model_test_rmse))\n",
    "    print(\"- Mean Absolute Error: {:.4f}\".format(model_test_mae))\n",
    "    print(\"- R2 Score: {:.4f}\".format(model_test_r2))\n",
    "    print(\"- Adjusted R2: {:.4f}\".format(model_test_adjusted_r2))\n",
    "    \n",
    "    r2_list.append(model_test_r2)\n",
    "    adjusted_r2_list.append(model_test_adjusted_r2)\n",
    "\n",
    "    print('='*35)\n",
    "    print('\\n')"
   ]
  },
  {
   "cell_type": "code",
   "execution_count": 209,
   "id": "164d5f30",
   "metadata": {},
   "outputs": [
    {
     "data": {
      "text/html": [
       "<div>\n",
       "<style scoped>\n",
       "    .dataframe tbody tr th:only-of-type {\n",
       "        vertical-align: middle;\n",
       "    }\n",
       "\n",
       "    .dataframe tbody tr th {\n",
       "        vertical-align: top;\n",
       "    }\n",
       "\n",
       "    .dataframe thead th {\n",
       "        text-align: right;\n",
       "    }\n",
       "</style>\n",
       "<table border=\"1\" class=\"dataframe\">\n",
       "  <thead>\n",
       "    <tr style=\"text-align: right;\">\n",
       "      <th></th>\n",
       "      <th>Model Name</th>\n",
       "      <th>R2_Score</th>\n",
       "      <th>Adjusted R2 score</th>\n",
       "    </tr>\n",
       "  </thead>\n",
       "  <tbody>\n",
       "    <tr>\n",
       "      <th>0</th>\n",
       "      <td>Linear Regression</td>\n",
       "      <td>0.394037</td>\n",
       "      <td>0.390624</td>\n",
       "    </tr>\n",
       "    <tr>\n",
       "      <th>1</th>\n",
       "      <td>Lasso</td>\n",
       "      <td>0.389794</td>\n",
       "      <td>0.386356</td>\n",
       "    </tr>\n",
       "    <tr>\n",
       "      <th>2</th>\n",
       "      <td>Ridge</td>\n",
       "      <td>0.394024</td>\n",
       "      <td>0.390611</td>\n",
       "    </tr>\n",
       "    <tr>\n",
       "      <th>3</th>\n",
       "      <td>K-Neighbors Regressor</td>\n",
       "      <td>0.785306</td>\n",
       "      <td>0.784096</td>\n",
       "    </tr>\n",
       "    <tr>\n",
       "      <th>4</th>\n",
       "      <td>Decision Tree</td>\n",
       "      <td>0.832006</td>\n",
       "      <td>0.831059</td>\n",
       "    </tr>\n",
       "    <tr>\n",
       "      <th>5</th>\n",
       "      <td>Random Forest Regressor</td>\n",
       "      <td>0.831794</td>\n",
       "      <td>0.830847</td>\n",
       "    </tr>\n",
       "    <tr>\n",
       "      <th>6</th>\n",
       "      <td>Gradient Boost Regressor</td>\n",
       "      <td>0.502998</td>\n",
       "      <td>0.500198</td>\n",
       "    </tr>\n",
       "    <tr>\n",
       "      <th>7</th>\n",
       "      <td>XGBRegressor</td>\n",
       "      <td>0.812359</td>\n",
       "      <td>0.811302</td>\n",
       "    </tr>\n",
       "    <tr>\n",
       "      <th>8</th>\n",
       "      <td>AdaBoost Regressor</td>\n",
       "      <td>0.250132</td>\n",
       "      <td>0.245908</td>\n",
       "    </tr>\n",
       "  </tbody>\n",
       "</table>\n",
       "</div>"
      ],
      "text/plain": [
       "                 Model Name  R2_Score  Adjusted R2 score\n",
       "0         Linear Regression  0.394037           0.390624\n",
       "1                     Lasso  0.389794           0.386356\n",
       "2                     Ridge  0.394024           0.390611\n",
       "3     K-Neighbors Regressor  0.785306           0.784096\n",
       "4             Decision Tree  0.832006           0.831059\n",
       "5   Random Forest Regressor  0.831794           0.830847\n",
       "6  Gradient Boost Regressor  0.502998           0.500198\n",
       "7              XGBRegressor  0.812359           0.811302\n",
       "8        AdaBoost Regressor  0.250132           0.245908"
      ]
     },
     "execution_count": 209,
     "metadata": {},
     "output_type": "execute_result"
    }
   ],
   "source": [
    "pd.DataFrame(list(zip(model_list, r2_list, adjusted_r2_list)), columns=['Model Name', 'R2_Score', 'Adjusted R2 score'])"
   ]
  },
  {
   "cell_type": "code",
   "execution_count": 210,
   "id": "d6832684",
   "metadata": {},
   "outputs": [
    {
     "data": {
      "text/html": [
       "<div>\n",
       "<style scoped>\n",
       "    .dataframe tbody tr th:only-of-type {\n",
       "        vertical-align: middle;\n",
       "    }\n",
       "\n",
       "    .dataframe tbody tr th {\n",
       "        vertical-align: top;\n",
       "    }\n",
       "\n",
       "    .dataframe thead th {\n",
       "        text-align: right;\n",
       "    }\n",
       "</style>\n",
       "<table border=\"1\" class=\"dataframe\">\n",
       "  <thead>\n",
       "    <tr style=\"text-align: right;\">\n",
       "      <th></th>\n",
       "      <th>Model Name</th>\n",
       "      <th>R2_Score</th>\n",
       "    </tr>\n",
       "  </thead>\n",
       "  <tbody>\n",
       "    <tr>\n",
       "      <th>4</th>\n",
       "      <td>Decision Tree</td>\n",
       "      <td>0.832006</td>\n",
       "    </tr>\n",
       "    <tr>\n",
       "      <th>5</th>\n",
       "      <td>Random Forest Regressor</td>\n",
       "      <td>0.831794</td>\n",
       "    </tr>\n",
       "    <tr>\n",
       "      <th>7</th>\n",
       "      <td>XGBRegressor</td>\n",
       "      <td>0.812359</td>\n",
       "    </tr>\n",
       "    <tr>\n",
       "      <th>3</th>\n",
       "      <td>K-Neighbors Regressor</td>\n",
       "      <td>0.785306</td>\n",
       "    </tr>\n",
       "    <tr>\n",
       "      <th>6</th>\n",
       "      <td>Gradient Boost Regressor</td>\n",
       "      <td>0.502998</td>\n",
       "    </tr>\n",
       "    <tr>\n",
       "      <th>0</th>\n",
       "      <td>Linear Regression</td>\n",
       "      <td>0.394037</td>\n",
       "    </tr>\n",
       "    <tr>\n",
       "      <th>2</th>\n",
       "      <td>Ridge</td>\n",
       "      <td>0.394024</td>\n",
       "    </tr>\n",
       "    <tr>\n",
       "      <th>1</th>\n",
       "      <td>Lasso</td>\n",
       "      <td>0.389794</td>\n",
       "    </tr>\n",
       "    <tr>\n",
       "      <th>8</th>\n",
       "      <td>AdaBoost Regressor</td>\n",
       "      <td>0.250132</td>\n",
       "    </tr>\n",
       "  </tbody>\n",
       "</table>\n",
       "</div>"
      ],
      "text/plain": [
       "                 Model Name  R2_Score\n",
       "4             Decision Tree  0.832006\n",
       "5   Random Forest Regressor  0.831794\n",
       "7              XGBRegressor  0.812359\n",
       "3     K-Neighbors Regressor  0.785306\n",
       "6  Gradient Boost Regressor  0.502998\n",
       "0         Linear Regression  0.394037\n",
       "2                     Ridge  0.394024\n",
       "1                     Lasso  0.389794\n",
       "8        AdaBoost Regressor  0.250132"
      ]
     },
     "execution_count": 210,
     "metadata": {},
     "output_type": "execute_result"
    }
   ],
   "source": [
    "pd.DataFrame(list(zip(model_list, r2_list)), columns=['Model Name', 'R2_Score']).sort_values(by=[\"R2_Score\"],ascending=False)"
   ]
  },
  {
   "cell_type": "code",
   "execution_count": null,
   "id": "f448103c",
   "metadata": {},
   "outputs": [],
   "source": []
  },
  {
   "cell_type": "code",
   "execution_count": 211,
   "id": "eb724905",
   "metadata": {},
   "outputs": [
    {
     "data": {
      "image/png": "[encoded data removed]",
      "text/plain": [
       "<Figure size 720x432 with 1 Axes>"
      ]
     },
     "metadata": {},
     "output_type": "display_data"
    }
   ],
   "source": [
    "\n",
    "\n",
    "# Train Decision Tree regressor models with different depths\n",
    "train_errors = []\n",
    "val_errors = []\n",
    "\n",
    "depths = [1, 2, 5, 10, 20]\n",
    "for depth in depths:\n",
    "    model = DecisionTreeRegressor(max_depth=depth)\n",
    "    model.fit(X_train, y_train)\n",
    "    \n",
    "    train_predictions = model.predict(X_train)\n",
    "    train_errors.append(mean_squared_error(y_train, train_predictions))\n",
    "    \n",
    "    val_predictions = model.predict(X_test)\n",
    "    val_errors.append(mean_squared_error(y_test, val_predictions))\n",
    "\n",
    "# Plotting the learning curves\n",
    "plt.figure(figsize=(10, 6))\n",
    "plt.plot(depths, train_errors, label='Training MSE')\n",
    "plt.plot(depths, val_errors, label='Validation MSE')\n",
    "plt.xlabel('Tree Depth')\n",
    "plt.ylabel('Mean Squared Error')\n",
    "plt.title('Learning Curves for Decision Tree Regression')\n",
    "plt.legend()\n",
    "plt.show()\n"
   ]
  },
  {
   "cell_type": "markdown",
   "id": "85ca437a",
   "metadata": {},
   "source": [
    "# Hyperparameter Tuning"
   ]
  },
  {
   "cell_type": "code",
   "execution_count": 68,
   "id": "19013fa0",
   "metadata": {},
   "outputs": [
    {
     "name": "stdout",
     "output_type": "stream",
     "text": [
      "Decision Tree\n",
      "Model performance for Training set\n",
      "- Root Mean Squared Error: 84.2918\n",
      "- Mean Absolute Error: 41.6055\n",
      "- R2 Score: 0.8555\n",
      "- Adjusted R2: 0.8241\n",
      "----------------------------------\n",
      "Model performance for Test set\n",
      "- Root Mean Squared Error: 93.1624\n",
      "- Mean Absolute Error: 47.6527\n",
      "- R2 Score: 0.8251\n",
      "- Adjusted R2: 0.8241\n",
      "===================================\n",
      "\n",
      "\n",
      "Random Forest Regressor\n",
      "Model performance for Training set\n",
      "- Root Mean Squared Error: 84.3985\n",
      "- Mean Absolute Error: 42.0383\n",
      "- R2 Score: 0.8551\n",
      "- Adjusted R2: 0.8236\n",
      "----------------------------------\n",
      "Model performance for Test set\n",
      "- Root Mean Squared Error: 93.2946\n",
      "- Mean Absolute Error: 48.3748\n",
      "- R2 Score: 0.8246\n",
      "- Adjusted R2: 0.8236\n",
      "===================================\n",
      "\n",
      "\n"
     ]
    }
   ],
   "source": [
    "\n",
    "# Define the hyperparameter grid for Decision Tree Regressor\n",
    "dt_param_grid = {\n",
    "    'max_depth': [None, 5, 10, 15],\n",
    "    'min_samples_split': [2, 5, 10],\n",
    "    'min_samples_leaf': [1, 2, 4]\n",
    "}\n",
    "\n",
    "\n",
    "# Define the hyperparameter grid for Random Forest Regressor\n",
    "rf_param_grid = {\n",
    "    'n_estimators': [100, 200, 300],\n",
    "    'max_depth': [None, 5, 10],\n",
    "    'min_samples_split': [2, 5, 10],\n",
    "    'min_samples_leaf': [1, 2, 4],\n",
    "    'max_features': ['auto', 'sqrt']\n",
    "}\n",
    "\n",
    "models = {\n",
    "    \"Decision Tree\": DecisionTreeRegressor(),\n",
    "    \"Random Forest Regressor\": RandomForestRegressor(),\n",
    "     }\n",
    "\n",
    "model_list = []\n",
    "r2_list = []\n",
    "\n",
    "for i, model_name in enumerate(models):\n",
    "    model = models[model_name]\n",
    "\n",
    "    if model_name == \"Decision Tree\":\n",
    "        # Perform hyperparameter tuning using GridSearchCV for Decision Tree Regressor\n",
    "        grid_search = GridSearchCV(model, param_grid=dt_param_grid, cv=5, n_jobs=-1)\n",
    "    \n",
    "    elif model_name == \"Random Forest Regressor\":\n",
    "        # Perform hyperparameter tuning using GridSearchCV for Random Forest Regressor\n",
    "        grid_search = GridSearchCV(model, param_grid=rf_param_grid, cv=5, n_jobs=-1)\n",
    "\n",
    "    grid_search.fit(X_train, y_train)\n",
    "    model = grid_search.best_estimator_  # Reassign the model with the best estimator found by GridSearchCV\n",
    "\n",
    "    model.fit(X_train, y_train) # Train model\n",
    "\n",
    "    # Make predictions\n",
    "    y_train_pred = model.predict(X_train)\n",
    "    y_test_pred = model.predict(X_test)\n",
    "\n",
    "    # Evaluate Train and Test dataset\n",
    "    model_train_mae, model_train_rmse, model_train_r2, model_train_adjusted_r2 = evaluate_model(y_train, y_train_pred)\n",
    "\n",
    "    model_test_mae, model_test_rmse, model_test_r2, model_test_adjusted_r2 = evaluate_model(y_test, y_test_pred)\n",
    "\n",
    "    print(model_name)\n",
    "    model_list.append(model_name)\n",
    "\n",
    "    print('Model performance for Training set')\n",
    "    print(\"- Root Mean Squared Error: {:.4f}\".format(model_train_rmse))\n",
    "    print(\"- Mean Absolute Error: {:.4f}\".format(model_train_mae))\n",
    "    print(\"- R2 Score: {:.4f}\".format(model_train_r2))\n",
    "    print(\"- Adjusted R2: {:.4f}\".format(model_train_adjusted_r2))\n",
    "\n",
    "    print('----------------------------------')\n",
    "\n",
    "    print('Model performance for Test set')\n",
    "    print(\"- Root Mean Squared Error: {:.4f}\".format(model_test_rmse))\n",
    "    print(\"- Mean Absolute Error: {:.4f}\".format(model_test_mae))\n",
    "    print(\"- R2 Score: {:.4f}\".format(model_test_r2))\n",
    "    print(\"- Adjusted R2: {:.4f}\".format(model_test_adjusted_r2))\n",
    "    r2_list.append(model_test_r2)\n",
    "\n",
    "    print('=' * 35)\n",
    "    print('\\n')\n"
   ]
  },
  {
   "cell_type": "code",
   "execution_count": 69,
   "id": "f54b3ef0",
   "metadata": {},
   "outputs": [
    {
     "data": {
      "text/html": [
       "<div>\n",
       "<style scoped>\n",
       "    .dataframe tbody tr th:only-of-type {\n",
       "        vertical-align: middle;\n",
       "    }\n",
       "\n",
       "    .dataframe tbody tr th {\n",
       "        vertical-align: top;\n",
       "    }\n",
       "\n",
       "    .dataframe thead th {\n",
       "        text-align: right;\n",
       "    }\n",
       "</style>\n",
       "<table border=\"1\" class=\"dataframe\">\n",
       "  <thead>\n",
       "    <tr style=\"text-align: right;\">\n",
       "      <th></th>\n",
       "      <th>Model Name</th>\n",
       "      <th>R2_Score</th>\n",
       "    </tr>\n",
       "  </thead>\n",
       "  <tbody>\n",
       "    <tr>\n",
       "      <th>0</th>\n",
       "      <td>Decision Tree</td>\n",
       "      <td>0.825089</td>\n",
       "    </tr>\n",
       "    <tr>\n",
       "      <th>1</th>\n",
       "      <td>Random Forest Regressor</td>\n",
       "      <td>0.824592</td>\n",
       "    </tr>\n",
       "  </tbody>\n",
       "</table>\n",
       "</div>"
      ],
      "text/plain": [
       "                Model Name  R2_Score\n",
       "0            Decision Tree  0.825089\n",
       "1  Random Forest Regressor  0.824592"
      ]
     },
     "execution_count": 69,
     "metadata": {},
     "output_type": "execute_result"
    }
   ],
   "source": [
    "pd.DataFrame(list(zip(model_list, r2_list)), columns=['Model Name', 'R2_Score']).sort_values(by=[\"R2_Score\"],ascending=False)"
   ]
  },
  {
   "cell_type": "code",
   "execution_count": null,
   "id": "35ffa7aa",
   "metadata": {},
   "outputs": [],
   "source": []
  },
  {
   "cell_type": "code",
   "execution_count": 217,
   "id": "6ab315f4",
   "metadata": {},
   "outputs": [
    {
     "name": "stdout",
     "output_type": "stream",
     "text": [
      "Model performance for Training set\n",
      "- Root Mean Squared Error: 84.8134\n",
      "- Mean Absolute Error: 41.9549\n",
      "- R2 Score: 0.8496\n",
      "- Adjusted R2: 0.8493\n",
      "----------------------------------\n",
      "Model performance for Test set\n",
      "- Root Mean Squared Error: 90.1287\n",
      "- Mean Absolute Error: 46.0222\n",
      "- R2 Score: 0.8320\n",
      "- Adjusted R2: 0.8311\n",
      "===================================\n",
      "\n",
      "\n"
     ]
    }
   ],
   "source": [
    "# Creating a Decision Tree Regressor\n",
    "DT_model = DecisionTreeRegressor()\n",
    "DT_model.fit(X_train, y_train) # Train model\n",
    "\n",
    "    # Make predictions\n",
    "y_train_pred = DT_model.predict(X_train)\n",
    "y_test_pred = DT_model.predict(X_test)\n",
    "\n",
    "\n",
    "# Evaluate Train and Test dataset\n",
    "(\n",
    "        model_train_mae,\n",
    "        model_train_rmse,\n",
    "        model_train_r2,\n",
    "        model_train_adjusted_r2,\n",
    "    ) = evaluate_model(y_train, y_train_pred)\n",
    "\n",
    "(\n",
    "        model_test_mae,\n",
    "        model_test_rmse,\n",
    "        model_test_r2,\n",
    "        model_test_adjusted_r2,\n",
    "    ) = evaluate_model(y_test, y_test_pred)\n",
    "\n",
    "\n",
    "\n",
    "print('Model performance for Training set')\n",
    "print(\"- Root Mean Squared Error: {:.4f}\".format(model_train_rmse))\n",
    "print(\"- Mean Absolute Error: {:.4f}\".format(model_train_mae))\n",
    "print(\"- R2 Score: {:.4f}\".format(model_train_r2))\n",
    "print(\"- Adjusted R2: {:.4f}\".format(model_train_adjusted_r2))\n",
    "\n",
    "print('----------------------------------')\n",
    "\n",
    "print('Model performance for Test set')\n",
    "print(\"- Root Mean Squared Error: {:.4f}\".format(model_test_rmse))\n",
    "print(\"- Mean Absolute Error: {:.4f}\".format(model_test_mae))\n",
    "print(\"- R2 Score: {:.4f}\".format(model_test_r2))\n",
    "print(\"- Adjusted R2: {:.4f}\".format(model_test_adjusted_r2))\n",
    "    \n",
    "\n",
    "print('=' * 35)\n",
    "print('\\n')\n"
   ]
  },
  {
   "cell_type": "code",
   "execution_count": 218,
   "id": "15fbf48d",
   "metadata": {},
   "outputs": [
    {
     "name": "stdout",
     "output_type": "stream",
     "text": [
      "Model saved as DT_model.sav\n"
     ]
    }
   ],
   "source": [
    "# Pickling the trained model\n",
    "import pickle\n",
    "\n",
    "\n",
    "model_filename = 'DT_model.sav'\n",
    "with open(model_filename, 'wb') as file:\n",
    "    pickle.dump(DT_model, file)\n",
    "\n",
    "print(\"Model saved as\", model_filename)"
   ]
  },
  {
   "cell_type": "code",
   "execution_count": 219,
   "id": "ee6e167c",
   "metadata": {},
   "outputs": [],
   "source": [
    "\n",
    "# load the model from disk\n",
    "# Load the pickled model\n",
    "\n",
    "model_filename = 'DT_model.sav'\n",
    "with open(model_filename, 'rb') as file:\n",
    "    loaded_regressor = pickle.load(file)"
   ]
  },
  {
   "cell_type": "code",
   "execution_count": null,
   "id": "33e0f0cc",
   "metadata": {},
   "outputs": [],
   "source": []
  }
 ],
 "metadata": {
  "kernelspec": {
   "display_name": "Python 3 (ipykernel)",
   "language": "python",
   "name": "python3"
  },
  "language_info": {
   "codemirror_mode": {
    "name": "ipython",
    "version": 3
   },
   "file_extension": ".py",
   "mimetype": "text/x-python",
   "name": "python",
   "nbconvert_exporter": "python",
   "pygments_lexer": "ipython3",
   "version": "3.9.12"
  }
 },
 "nbformat": 4,
 "nbformat_minor": 5
}
